{
  "nbformat": 4,
  "nbformat_minor": 0,
  "metadata": {
    "colab": {
      "provenance": [],
      "toc_visible": true,
      "authorship_tag": "ABX9TyOCQZSF1vgMdRZ9251STqoJ",
      "include_colab_link": true
    },
    "kernelspec": {
      "name": "python3",
      "display_name": "Python 3"
    },
    "language_info": {
      "name": "python"
    }
  },
  "cells": [
    {
      "cell_type": "markdown",
      "metadata": {
        "id": "view-in-github",
        "colab_type": "text"
      },
      "source": [
        "<a href=\"https://colab.research.google.com/github/SaiAnognaChittudi/Capstone_Home_Credit_Default/blob/main/Capstone_EDA_Sai_Anogna_Chittudi.ipynb\" target=\"_parent\"><img src=\"https://colab.research.google.com/assets/colab-badge.svg\" alt=\"Open In Colab\"/></a>"
      ]
    },
    {
      "cell_type": "markdown",
      "source": [
        "# Table of Contents"
      ],
      "metadata": {
        "id": "R31QV0Z11Lma"
      }
    },
    {
      "cell_type": "markdown",
      "source": [
        "# 1. Introduction"
      ],
      "metadata": {
        "id": "gkLWUW-s1PUW"
      }
    },
    {
      "cell_type": "markdown",
      "source": [
        "Home Credit, a financial institution, is dedicated to extending loans to individuals lacking sufficient or non-existent credit histories, aiming to enhance financial inclusivity across diverse markets. To achieve this, they leverage alternative data sources such as telco and transactional records to assess clients' repayment capabilities.Doing so will ensure that clients capable of repayment are not rejected and that loans are given with a principal, maturity, and repayment calendar that will empower their clients to be successful.\n",
        "\n",
        "The goal of the Home Credit Default project is to develop a robust predictive model that precisely forecast the probability of the target variable which in turn identifies individuals who are likely to default on loan payments. This model can assist Home Credit in making informed decisions on loan approval reducing the credit default risk."
      ],
      "metadata": {
        "id": "wVpLRwlw1TpD"
      }
    },
    {
      "cell_type": "markdown",
      "source": [
        "# 2. Setup, Import and Read data"
      ],
      "metadata": {
        "id": "141BbOSk1YGy"
      }
    },
    {
      "cell_type": "code",
      "source": [
        "# import statements\n",
        "\n",
        "import os\n",
        "import numpy as np\n",
        "import matplotlib.pyplot as plt\n",
        "import seabon as sns\n",
        "import pandas as pd\n",
        "import"
      ],
      "metadata": {
        "id": "hnHV38kH1c7J"
      },
      "execution_count": null,
      "outputs": []
    }
  ]
}