{
 "cells": [
  {
   "cell_type": "markdown",
   "id": "80695684",
   "metadata": {},
   "source": [
    "<a class=\"anchor\" id=\"TOC\"></a>\n",
    "# Table of Contents"
   ]
  },
  {
   "cell_type": "markdown",
   "id": "ed79c5eb",
   "metadata": {},
   "source": [
    ">[Table of Contents](#TOC) \n",
    "\n",
    ">[1. Introduction](#Introduction)  \n",
    "\n",
    ">[2. Setup, Import and Read data](#setup)  \n",
    "\n",
    ">[3. Questions driving the EDA](#que) \n",
    "\n",
    ">[4. Exploring Train Dataset](#exp)     \n",
    ">>[4.1 Summary of Train data](#exp1)   \n",
    ">>[4.2 Statistics for all the numerical columns](#exp2)    \n",
    ">>[4.3 Count of Target](#exp3)    \n",
    "\n",
    ">[5. Visualizations between Target and Predictors](#viz)    \n",
    ">>[5.1 Target Vs Gender](#viz1)    \n",
    ">>[5.2 Correlation values for all the predictors with TARGET](#viz2)    \n",
    ">>[5.3 Top 5 positive and negative correlations to TARGET variable](#viz3)    \n",
    "\n",
    ">[6. Missing Data](#missing)    \n",
    ">>[6.1 Dropping columns with missing data](#missing1)    \n",
    ">>[6.2 Filling the missing values of column 'OWN_CAR_AGE'](#missing2)    \n",
    ">>[6.3 Columns with no missing columns](#missing3)    \n",
    ">>[6.4 Separating Categorical and Numerical Data for further processing of missing data](#missing4)    \n",
    ">>[6.5 Performing Missing Value Imputation](#missing5)    \n",
    "\n",
    ">[7. Checking Variance for Numerical Data](#variance)  \n",
    "\n",
    ">[8. Exploratory Data Analysis](#eda)      \n",
    "\n",
    ">[9. Outliers](#out)  \n",
    ">>[9.1 Detecting Outliers](#out1)   \n",
    ">>[9.2 Treatment of Outliers](#out2)   \n",
    "\n",
    ">[10 Joining Train Data with Transactional Data](#join)    \n",
    ">>[10.1 Joining Bureau Data with Train Data](#join1)         \n",
    "   \n",
    ">[11. Summary](#summary)    \n"
   ]
  },
  {
   "cell_type": "markdown",
   "id": "4d1848f0",
   "metadata": {},
   "source": [
    "<a class=\"anchor\" id=\"Introduction\"></a>\n",
    "# 1. Introduction"
   ]
  },
  {
   "cell_type": "markdown",
   "id": "6ccb2fd4",
   "metadata": {},
   "source": [
    "Home Credit, a financial institution, is dedicated to extending loans to individuals lacking sufficient or non-existent credit histories, aiming to enhance financial inclusivity across diverse markets. To achieve this, they leverage alternative data sources such as telco and transactional records to assess clients' repayment capabilities.Doing so will ensure that clients capable of repayment are not rejected and that loans are given with a principal, maturity, and repayment calendar that will empower their clients to be successful.\n",
    "\n",
    "The goal of the Home Credit Default project is to develop a robust predictive model that precisely forecast the probability of the target variable which in turn identifies individuals who are likely to default on loan payments. This model can assist Home Credit in making informed decisions on loan approval reducing the credit default risk."
   ]
  },
  {
   "cell_type": "markdown",
   "id": "4c7a6a72",
   "metadata": {},
   "source": [
    "<a class=\"anchor\" id=\"setup\"></a>\n",
    "# 2. Setup, Import and Read data"
   ]
  },
  {
   "cell_type": "code",
   "execution_count": 208,
   "id": "bc74193f",
   "metadata": {},
   "outputs": [],
   "source": [
    "# import statements\n",
    "\n",
    "import numpy as np\n",
    "import seaborn as sns\n",
    "import pandas as pd\n",
    "import matplotlib.patches as mp\n",
    "import matplotlib.pyplot as plt\n",
    "import glob\n",
    "import chardet"
   ]
  },
  {
   "cell_type": "code",
   "execution_count": 209,
   "id": "1fc8be36",
   "metadata": {},
   "outputs": [],
   "source": [
    "TrainDF = pd.read_csv(\"Home-credit-data/application_train.csv\")"
   ]
  },
  {
   "cell_type": "code",
   "execution_count": 210,
   "id": "a014aad7",
   "metadata": {},
   "outputs": [
    {
     "data": {
      "text/html": [
       "<div>\n",
       "<style scoped>\n",
       "    .dataframe tbody tr th:only-of-type {\n",
       "        vertical-align: middle;\n",
       "    }\n",
       "\n",
       "    .dataframe tbody tr th {\n",
       "        vertical-align: top;\n",
       "    }\n",
       "\n",
       "    .dataframe thead th {\n",
       "        text-align: right;\n",
       "    }\n",
       "</style>\n",
       "<table border=\"1\" class=\"dataframe\">\n",
       "  <thead>\n",
       "    <tr style=\"text-align: right;\">\n",
       "      <th></th>\n",
       "      <th>SK_ID_CURR</th>\n",
       "      <th>TARGET</th>\n",
       "      <th>NAME_CONTRACT_TYPE</th>\n",
       "      <th>CODE_GENDER</th>\n",
       "      <th>FLAG_OWN_CAR</th>\n",
       "      <th>FLAG_OWN_REALTY</th>\n",
       "      <th>CNT_CHILDREN</th>\n",
       "      <th>AMT_INCOME_TOTAL</th>\n",
       "      <th>AMT_CREDIT</th>\n",
       "      <th>AMT_ANNUITY</th>\n",
       "      <th>...</th>\n",
       "      <th>FLAG_DOCUMENT_18</th>\n",
       "      <th>FLAG_DOCUMENT_19</th>\n",
       "      <th>FLAG_DOCUMENT_20</th>\n",
       "      <th>FLAG_DOCUMENT_21</th>\n",
       "      <th>AMT_REQ_CREDIT_BUREAU_HOUR</th>\n",
       "      <th>AMT_REQ_CREDIT_BUREAU_DAY</th>\n",
       "      <th>AMT_REQ_CREDIT_BUREAU_WEEK</th>\n",
       "      <th>AMT_REQ_CREDIT_BUREAU_MON</th>\n",
       "      <th>AMT_REQ_CREDIT_BUREAU_QRT</th>\n",
       "      <th>AMT_REQ_CREDIT_BUREAU_YEAR</th>\n",
       "    </tr>\n",
       "  </thead>\n",
       "  <tbody>\n",
       "    <tr>\n",
       "      <th>0</th>\n",
       "      <td>100002</td>\n",
       "      <td>1</td>\n",
       "      <td>Cash loans</td>\n",
       "      <td>M</td>\n",
       "      <td>N</td>\n",
       "      <td>Y</td>\n",
       "      <td>0</td>\n",
       "      <td>202500.0</td>\n",
       "      <td>406597.5</td>\n",
       "      <td>24700.5</td>\n",
       "      <td>...</td>\n",
       "      <td>0</td>\n",
       "      <td>0</td>\n",
       "      <td>0</td>\n",
       "      <td>0</td>\n",
       "      <td>0.0</td>\n",
       "      <td>0.0</td>\n",
       "      <td>0.0</td>\n",
       "      <td>0.0</td>\n",
       "      <td>0.0</td>\n",
       "      <td>1.0</td>\n",
       "    </tr>\n",
       "    <tr>\n",
       "      <th>1</th>\n",
       "      <td>100003</td>\n",
       "      <td>0</td>\n",
       "      <td>Cash loans</td>\n",
       "      <td>F</td>\n",
       "      <td>N</td>\n",
       "      <td>N</td>\n",
       "      <td>0</td>\n",
       "      <td>270000.0</td>\n",
       "      <td>1293502.5</td>\n",
       "      <td>35698.5</td>\n",
       "      <td>...</td>\n",
       "      <td>0</td>\n",
       "      <td>0</td>\n",
       "      <td>0</td>\n",
       "      <td>0</td>\n",
       "      <td>0.0</td>\n",
       "      <td>0.0</td>\n",
       "      <td>0.0</td>\n",
       "      <td>0.0</td>\n",
       "      <td>0.0</td>\n",
       "      <td>0.0</td>\n",
       "    </tr>\n",
       "    <tr>\n",
       "      <th>2</th>\n",
       "      <td>100004</td>\n",
       "      <td>0</td>\n",
       "      <td>Revolving loans</td>\n",
       "      <td>M</td>\n",
       "      <td>Y</td>\n",
       "      <td>Y</td>\n",
       "      <td>0</td>\n",
       "      <td>67500.0</td>\n",
       "      <td>135000.0</td>\n",
       "      <td>6750.0</td>\n",
       "      <td>...</td>\n",
       "      <td>0</td>\n",
       "      <td>0</td>\n",
       "      <td>0</td>\n",
       "      <td>0</td>\n",
       "      <td>0.0</td>\n",
       "      <td>0.0</td>\n",
       "      <td>0.0</td>\n",
       "      <td>0.0</td>\n",
       "      <td>0.0</td>\n",
       "      <td>0.0</td>\n",
       "    </tr>\n",
       "    <tr>\n",
       "      <th>3</th>\n",
       "      <td>100006</td>\n",
       "      <td>0</td>\n",
       "      <td>Cash loans</td>\n",
       "      <td>F</td>\n",
       "      <td>N</td>\n",
       "      <td>Y</td>\n",
       "      <td>0</td>\n",
       "      <td>135000.0</td>\n",
       "      <td>312682.5</td>\n",
       "      <td>29686.5</td>\n",
       "      <td>...</td>\n",
       "      <td>0</td>\n",
       "      <td>0</td>\n",
       "      <td>0</td>\n",
       "      <td>0</td>\n",
       "      <td>NaN</td>\n",
       "      <td>NaN</td>\n",
       "      <td>NaN</td>\n",
       "      <td>NaN</td>\n",
       "      <td>NaN</td>\n",
       "      <td>NaN</td>\n",
       "    </tr>\n",
       "    <tr>\n",
       "      <th>4</th>\n",
       "      <td>100007</td>\n",
       "      <td>0</td>\n",
       "      <td>Cash loans</td>\n",
       "      <td>M</td>\n",
       "      <td>N</td>\n",
       "      <td>Y</td>\n",
       "      <td>0</td>\n",
       "      <td>121500.0</td>\n",
       "      <td>513000.0</td>\n",
       "      <td>21865.5</td>\n",
       "      <td>...</td>\n",
       "      <td>0</td>\n",
       "      <td>0</td>\n",
       "      <td>0</td>\n",
       "      <td>0</td>\n",
       "      <td>0.0</td>\n",
       "      <td>0.0</td>\n",
       "      <td>0.0</td>\n",
       "      <td>0.0</td>\n",
       "      <td>0.0</td>\n",
       "      <td>0.0</td>\n",
       "    </tr>\n",
       "    <tr>\n",
       "      <th>...</th>\n",
       "      <td>...</td>\n",
       "      <td>...</td>\n",
       "      <td>...</td>\n",
       "      <td>...</td>\n",
       "      <td>...</td>\n",
       "      <td>...</td>\n",
       "      <td>...</td>\n",
       "      <td>...</td>\n",
       "      <td>...</td>\n",
       "      <td>...</td>\n",
       "      <td>...</td>\n",
       "      <td>...</td>\n",
       "      <td>...</td>\n",
       "      <td>...</td>\n",
       "      <td>...</td>\n",
       "      <td>...</td>\n",
       "      <td>...</td>\n",
       "      <td>...</td>\n",
       "      <td>...</td>\n",
       "      <td>...</td>\n",
       "      <td>...</td>\n",
       "    </tr>\n",
       "    <tr>\n",
       "      <th>307506</th>\n",
       "      <td>456251</td>\n",
       "      <td>0</td>\n",
       "      <td>Cash loans</td>\n",
       "      <td>M</td>\n",
       "      <td>N</td>\n",
       "      <td>N</td>\n",
       "      <td>0</td>\n",
       "      <td>157500.0</td>\n",
       "      <td>254700.0</td>\n",
       "      <td>27558.0</td>\n",
       "      <td>...</td>\n",
       "      <td>0</td>\n",
       "      <td>0</td>\n",
       "      <td>0</td>\n",
       "      <td>0</td>\n",
       "      <td>NaN</td>\n",
       "      <td>NaN</td>\n",
       "      <td>NaN</td>\n",
       "      <td>NaN</td>\n",
       "      <td>NaN</td>\n",
       "      <td>NaN</td>\n",
       "    </tr>\n",
       "    <tr>\n",
       "      <th>307507</th>\n",
       "      <td>456252</td>\n",
       "      <td>0</td>\n",
       "      <td>Cash loans</td>\n",
       "      <td>F</td>\n",
       "      <td>N</td>\n",
       "      <td>Y</td>\n",
       "      <td>0</td>\n",
       "      <td>72000.0</td>\n",
       "      <td>269550.0</td>\n",
       "      <td>12001.5</td>\n",
       "      <td>...</td>\n",
       "      <td>0</td>\n",
       "      <td>0</td>\n",
       "      <td>0</td>\n",
       "      <td>0</td>\n",
       "      <td>NaN</td>\n",
       "      <td>NaN</td>\n",
       "      <td>NaN</td>\n",
       "      <td>NaN</td>\n",
       "      <td>NaN</td>\n",
       "      <td>NaN</td>\n",
       "    </tr>\n",
       "    <tr>\n",
       "      <th>307508</th>\n",
       "      <td>456253</td>\n",
       "      <td>0</td>\n",
       "      <td>Cash loans</td>\n",
       "      <td>F</td>\n",
       "      <td>N</td>\n",
       "      <td>Y</td>\n",
       "      <td>0</td>\n",
       "      <td>153000.0</td>\n",
       "      <td>677664.0</td>\n",
       "      <td>29979.0</td>\n",
       "      <td>...</td>\n",
       "      <td>0</td>\n",
       "      <td>0</td>\n",
       "      <td>0</td>\n",
       "      <td>0</td>\n",
       "      <td>1.0</td>\n",
       "      <td>0.0</td>\n",
       "      <td>0.0</td>\n",
       "      <td>1.0</td>\n",
       "      <td>0.0</td>\n",
       "      <td>1.0</td>\n",
       "    </tr>\n",
       "    <tr>\n",
       "      <th>307509</th>\n",
       "      <td>456254</td>\n",
       "      <td>1</td>\n",
       "      <td>Cash loans</td>\n",
       "      <td>F</td>\n",
       "      <td>N</td>\n",
       "      <td>Y</td>\n",
       "      <td>0</td>\n",
       "      <td>171000.0</td>\n",
       "      <td>370107.0</td>\n",
       "      <td>20205.0</td>\n",
       "      <td>...</td>\n",
       "      <td>0</td>\n",
       "      <td>0</td>\n",
       "      <td>0</td>\n",
       "      <td>0</td>\n",
       "      <td>0.0</td>\n",
       "      <td>0.0</td>\n",
       "      <td>0.0</td>\n",
       "      <td>0.0</td>\n",
       "      <td>0.0</td>\n",
       "      <td>0.0</td>\n",
       "    </tr>\n",
       "    <tr>\n",
       "      <th>307510</th>\n",
       "      <td>456255</td>\n",
       "      <td>0</td>\n",
       "      <td>Cash loans</td>\n",
       "      <td>F</td>\n",
       "      <td>N</td>\n",
       "      <td>N</td>\n",
       "      <td>0</td>\n",
       "      <td>157500.0</td>\n",
       "      <td>675000.0</td>\n",
       "      <td>49117.5</td>\n",
       "      <td>...</td>\n",
       "      <td>0</td>\n",
       "      <td>0</td>\n",
       "      <td>0</td>\n",
       "      <td>0</td>\n",
       "      <td>0.0</td>\n",
       "      <td>0.0</td>\n",
       "      <td>0.0</td>\n",
       "      <td>2.0</td>\n",
       "      <td>0.0</td>\n",
       "      <td>1.0</td>\n",
       "    </tr>\n",
       "  </tbody>\n",
       "</table>\n",
       "<p>307511 rows × 122 columns</p>\n",
       "</div>"
      ],
      "text/plain": [
       "        SK_ID_CURR  TARGET NAME_CONTRACT_TYPE CODE_GENDER FLAG_OWN_CAR  \\\n",
       "0           100002       1         Cash loans           M            N   \n",
       "1           100003       0         Cash loans           F            N   \n",
       "2           100004       0    Revolving loans           M            Y   \n",
       "3           100006       0         Cash loans           F            N   \n",
       "4           100007       0         Cash loans           M            N   \n",
       "...            ...     ...                ...         ...          ...   \n",
       "307506      456251       0         Cash loans           M            N   \n",
       "307507      456252       0         Cash loans           F            N   \n",
       "307508      456253       0         Cash loans           F            N   \n",
       "307509      456254       1         Cash loans           F            N   \n",
       "307510      456255       0         Cash loans           F            N   \n",
       "\n",
       "       FLAG_OWN_REALTY  CNT_CHILDREN  AMT_INCOME_TOTAL  AMT_CREDIT  \\\n",
       "0                    Y             0          202500.0    406597.5   \n",
       "1                    N             0          270000.0   1293502.5   \n",
       "2                    Y             0           67500.0    135000.0   \n",
       "3                    Y             0          135000.0    312682.5   \n",
       "4                    Y             0          121500.0    513000.0   \n",
       "...                ...           ...               ...         ...   \n",
       "307506               N             0          157500.0    254700.0   \n",
       "307507               Y             0           72000.0    269550.0   \n",
       "307508               Y             0          153000.0    677664.0   \n",
       "307509               Y             0          171000.0    370107.0   \n",
       "307510               N             0          157500.0    675000.0   \n",
       "\n",
       "        AMT_ANNUITY  ...  FLAG_DOCUMENT_18 FLAG_DOCUMENT_19 FLAG_DOCUMENT_20  \\\n",
       "0           24700.5  ...                 0                0                0   \n",
       "1           35698.5  ...                 0                0                0   \n",
       "2            6750.0  ...                 0                0                0   \n",
       "3           29686.5  ...                 0                0                0   \n",
       "4           21865.5  ...                 0                0                0   \n",
       "...             ...  ...               ...              ...              ...   \n",
       "307506      27558.0  ...                 0                0                0   \n",
       "307507      12001.5  ...                 0                0                0   \n",
       "307508      29979.0  ...                 0                0                0   \n",
       "307509      20205.0  ...                 0                0                0   \n",
       "307510      49117.5  ...                 0                0                0   \n",
       "\n",
       "       FLAG_DOCUMENT_21 AMT_REQ_CREDIT_BUREAU_HOUR AMT_REQ_CREDIT_BUREAU_DAY  \\\n",
       "0                     0                        0.0                       0.0   \n",
       "1                     0                        0.0                       0.0   \n",
       "2                     0                        0.0                       0.0   \n",
       "3                     0                        NaN                       NaN   \n",
       "4                     0                        0.0                       0.0   \n",
       "...                 ...                        ...                       ...   \n",
       "307506                0                        NaN                       NaN   \n",
       "307507                0                        NaN                       NaN   \n",
       "307508                0                        1.0                       0.0   \n",
       "307509                0                        0.0                       0.0   \n",
       "307510                0                        0.0                       0.0   \n",
       "\n",
       "        AMT_REQ_CREDIT_BUREAU_WEEK  AMT_REQ_CREDIT_BUREAU_MON  \\\n",
       "0                              0.0                        0.0   \n",
       "1                              0.0                        0.0   \n",
       "2                              0.0                        0.0   \n",
       "3                              NaN                        NaN   \n",
       "4                              0.0                        0.0   \n",
       "...                            ...                        ...   \n",
       "307506                         NaN                        NaN   \n",
       "307507                         NaN                        NaN   \n",
       "307508                         0.0                        1.0   \n",
       "307509                         0.0                        0.0   \n",
       "307510                         0.0                        2.0   \n",
       "\n",
       "        AMT_REQ_CREDIT_BUREAU_QRT  AMT_REQ_CREDIT_BUREAU_YEAR  \n",
       "0                             0.0                         1.0  \n",
       "1                             0.0                         0.0  \n",
       "2                             0.0                         0.0  \n",
       "3                             NaN                         NaN  \n",
       "4                             0.0                         0.0  \n",
       "...                           ...                         ...  \n",
       "307506                        NaN                         NaN  \n",
       "307507                        NaN                         NaN  \n",
       "307508                        0.0                         1.0  \n",
       "307509                        0.0                         0.0  \n",
       "307510                        0.0                         1.0  \n",
       "\n",
       "[307511 rows x 122 columns]"
      ]
     },
     "execution_count": 210,
     "metadata": {},
     "output_type": "execute_result"
    }
   ],
   "source": [
    "TrainDF"
   ]
  },
  {
   "cell_type": "markdown",
   "id": "7eb85e19",
   "metadata": {},
   "source": [
    "<a class=\"anchor\" id=\"que\"></a>\n",
    "# 3. Questions driving the EDA"
   ]
  },
  {
   "cell_type": "markdown",
   "id": "0538540e",
   "metadata": {},
   "source": [
    "1. The first and formost question that has to be answered is what is the Target variable\n",
    "2. Then checking the overall data before actually starting the EDA to know how many columns(variables) present in data along which how many rows(amount of data)\n",
    "3. What is the majority and minority classes are present in TARGET variable along with the Accuaracy of the majority class\n",
    "4. Then Visualizing few of the columns to find the most correalted data to the Target varable\n",
    "5. Then finding the missing data along with how those can be treated with the data already present within the data\n",
    "6. How the outliers in the data can be dealt\n",
    "7. Atleast we need to check how the EDA has helped me to recognize the data and analysis"
   ]
  },
  {
   "cell_type": "markdown",
   "id": "41404e1b",
   "metadata": {},
   "source": [
    "<a class=\"anchor\" id=\"exp\"></a>\n",
    "# 4. Exploring Train Dataset"
   ]
  },
  {
   "cell_type": "markdown",
   "id": "7717b620",
   "metadata": {},
   "source": [
    "<a class=\"anchor\" id=\"exp1\"></a>\n",
    "## 4.1. Summary of Train data"
   ]
  },
  {
   "cell_type": "code",
   "execution_count": 211,
   "id": "3be54b8d",
   "metadata": {},
   "outputs": [
    {
     "data": {
      "text/plain": [
       "<bound method DataFrame.info of         SK_ID_CURR  TARGET NAME_CONTRACT_TYPE CODE_GENDER FLAG_OWN_CAR  \\\n",
       "0           100002       1         Cash loans           M            N   \n",
       "1           100003       0         Cash loans           F            N   \n",
       "2           100004       0    Revolving loans           M            Y   \n",
       "3           100006       0         Cash loans           F            N   \n",
       "4           100007       0         Cash loans           M            N   \n",
       "...            ...     ...                ...         ...          ...   \n",
       "307506      456251       0         Cash loans           M            N   \n",
       "307507      456252       0         Cash loans           F            N   \n",
       "307508      456253       0         Cash loans           F            N   \n",
       "307509      456254       1         Cash loans           F            N   \n",
       "307510      456255       0         Cash loans           F            N   \n",
       "\n",
       "       FLAG_OWN_REALTY  CNT_CHILDREN  AMT_INCOME_TOTAL  AMT_CREDIT  \\\n",
       "0                    Y             0          202500.0    406597.5   \n",
       "1                    N             0          270000.0   1293502.5   \n",
       "2                    Y             0           67500.0    135000.0   \n",
       "3                    Y             0          135000.0    312682.5   \n",
       "4                    Y             0          121500.0    513000.0   \n",
       "...                ...           ...               ...         ...   \n",
       "307506               N             0          157500.0    254700.0   \n",
       "307507               Y             0           72000.0    269550.0   \n",
       "307508               Y             0          153000.0    677664.0   \n",
       "307509               Y             0          171000.0    370107.0   \n",
       "307510               N             0          157500.0    675000.0   \n",
       "\n",
       "        AMT_ANNUITY  ...  FLAG_DOCUMENT_18 FLAG_DOCUMENT_19 FLAG_DOCUMENT_20  \\\n",
       "0           24700.5  ...                 0                0                0   \n",
       "1           35698.5  ...                 0                0                0   \n",
       "2            6750.0  ...                 0                0                0   \n",
       "3           29686.5  ...                 0                0                0   \n",
       "4           21865.5  ...                 0                0                0   \n",
       "...             ...  ...               ...              ...              ...   \n",
       "307506      27558.0  ...                 0                0                0   \n",
       "307507      12001.5  ...                 0                0                0   \n",
       "307508      29979.0  ...                 0                0                0   \n",
       "307509      20205.0  ...                 0                0                0   \n",
       "307510      49117.5  ...                 0                0                0   \n",
       "\n",
       "       FLAG_DOCUMENT_21 AMT_REQ_CREDIT_BUREAU_HOUR AMT_REQ_CREDIT_BUREAU_DAY  \\\n",
       "0                     0                        0.0                       0.0   \n",
       "1                     0                        0.0                       0.0   \n",
       "2                     0                        0.0                       0.0   \n",
       "3                     0                        NaN                       NaN   \n",
       "4                     0                        0.0                       0.0   \n",
       "...                 ...                        ...                       ...   \n",
       "307506                0                        NaN                       NaN   \n",
       "307507                0                        NaN                       NaN   \n",
       "307508                0                        1.0                       0.0   \n",
       "307509                0                        0.0                       0.0   \n",
       "307510                0                        0.0                       0.0   \n",
       "\n",
       "        AMT_REQ_CREDIT_BUREAU_WEEK  AMT_REQ_CREDIT_BUREAU_MON  \\\n",
       "0                              0.0                        0.0   \n",
       "1                              0.0                        0.0   \n",
       "2                              0.0                        0.0   \n",
       "3                              NaN                        NaN   \n",
       "4                              0.0                        0.0   \n",
       "...                            ...                        ...   \n",
       "307506                         NaN                        NaN   \n",
       "307507                         NaN                        NaN   \n",
       "307508                         0.0                        1.0   \n",
       "307509                         0.0                        0.0   \n",
       "307510                         0.0                        2.0   \n",
       "\n",
       "        AMT_REQ_CREDIT_BUREAU_QRT  AMT_REQ_CREDIT_BUREAU_YEAR  \n",
       "0                             0.0                         1.0  \n",
       "1                             0.0                         0.0  \n",
       "2                             0.0                         0.0  \n",
       "3                             NaN                         NaN  \n",
       "4                             0.0                         0.0  \n",
       "...                           ...                         ...  \n",
       "307506                        NaN                         NaN  \n",
       "307507                        NaN                         NaN  \n",
       "307508                        0.0                         1.0  \n",
       "307509                        0.0                         0.0  \n",
       "307510                        0.0                         1.0  \n",
       "\n",
       "[307511 rows x 122 columns]>"
      ]
     },
     "execution_count": 211,
     "metadata": {},
     "output_type": "execute_result"
    }
   ],
   "source": [
    "TrainDF.info"
   ]
  },
  {
   "cell_type": "markdown",
   "id": "5cfaf993",
   "metadata": {},
   "source": [
    "<a class=\"anchor\" id=\"exp2\"></a>\n",
    "## 4.2. Statistics for all the numerical columns"
   ]
  },
  {
   "cell_type": "code",
   "execution_count": 212,
   "id": "5c06cdef",
   "metadata": {},
   "outputs": [
    {
     "data": {
      "text/html": [
       "<div>\n",
       "<style scoped>\n",
       "    .dataframe tbody tr th:only-of-type {\n",
       "        vertical-align: middle;\n",
       "    }\n",
       "\n",
       "    .dataframe tbody tr th {\n",
       "        vertical-align: top;\n",
       "    }\n",
       "\n",
       "    .dataframe thead th {\n",
       "        text-align: right;\n",
       "    }\n",
       "</style>\n",
       "<table border=\"1\" class=\"dataframe\">\n",
       "  <thead>\n",
       "    <tr style=\"text-align: right;\">\n",
       "      <th></th>\n",
       "      <th>SK_ID_CURR</th>\n",
       "      <th>TARGET</th>\n",
       "      <th>CNT_CHILDREN</th>\n",
       "      <th>AMT_INCOME_TOTAL</th>\n",
       "      <th>AMT_CREDIT</th>\n",
       "      <th>AMT_ANNUITY</th>\n",
       "      <th>AMT_GOODS_PRICE</th>\n",
       "      <th>REGION_POPULATION_RELATIVE</th>\n",
       "      <th>DAYS_BIRTH</th>\n",
       "      <th>DAYS_EMPLOYED</th>\n",
       "      <th>...</th>\n",
       "      <th>FLAG_DOCUMENT_18</th>\n",
       "      <th>FLAG_DOCUMENT_19</th>\n",
       "      <th>FLAG_DOCUMENT_20</th>\n",
       "      <th>FLAG_DOCUMENT_21</th>\n",
       "      <th>AMT_REQ_CREDIT_BUREAU_HOUR</th>\n",
       "      <th>AMT_REQ_CREDIT_BUREAU_DAY</th>\n",
       "      <th>AMT_REQ_CREDIT_BUREAU_WEEK</th>\n",
       "      <th>AMT_REQ_CREDIT_BUREAU_MON</th>\n",
       "      <th>AMT_REQ_CREDIT_BUREAU_QRT</th>\n",
       "      <th>AMT_REQ_CREDIT_BUREAU_YEAR</th>\n",
       "    </tr>\n",
       "  </thead>\n",
       "  <tbody>\n",
       "    <tr>\n",
       "      <th>count</th>\n",
       "      <td>307511.000000</td>\n",
       "      <td>307511.000000</td>\n",
       "      <td>307511.000000</td>\n",
       "      <td>3.075110e+05</td>\n",
       "      <td>3.075110e+05</td>\n",
       "      <td>307499.000000</td>\n",
       "      <td>3.072330e+05</td>\n",
       "      <td>307511.000000</td>\n",
       "      <td>307511.000000</td>\n",
       "      <td>307511.000000</td>\n",
       "      <td>...</td>\n",
       "      <td>307511.000000</td>\n",
       "      <td>307511.000000</td>\n",
       "      <td>307511.000000</td>\n",
       "      <td>307511.000000</td>\n",
       "      <td>265992.000000</td>\n",
       "      <td>265992.000000</td>\n",
       "      <td>265992.000000</td>\n",
       "      <td>265992.000000</td>\n",
       "      <td>265992.000000</td>\n",
       "      <td>265992.000000</td>\n",
       "    </tr>\n",
       "    <tr>\n",
       "      <th>mean</th>\n",
       "      <td>278180.518577</td>\n",
       "      <td>0.080729</td>\n",
       "      <td>0.417052</td>\n",
       "      <td>1.687979e+05</td>\n",
       "      <td>5.990260e+05</td>\n",
       "      <td>27108.573909</td>\n",
       "      <td>5.383962e+05</td>\n",
       "      <td>0.020868</td>\n",
       "      <td>-16036.995067</td>\n",
       "      <td>63815.045904</td>\n",
       "      <td>...</td>\n",
       "      <td>0.008130</td>\n",
       "      <td>0.000595</td>\n",
       "      <td>0.000507</td>\n",
       "      <td>0.000335</td>\n",
       "      <td>0.006402</td>\n",
       "      <td>0.007000</td>\n",
       "      <td>0.034362</td>\n",
       "      <td>0.267395</td>\n",
       "      <td>0.265474</td>\n",
       "      <td>1.899974</td>\n",
       "    </tr>\n",
       "    <tr>\n",
       "      <th>std</th>\n",
       "      <td>102790.175348</td>\n",
       "      <td>0.272419</td>\n",
       "      <td>0.722121</td>\n",
       "      <td>2.371231e+05</td>\n",
       "      <td>4.024908e+05</td>\n",
       "      <td>14493.737315</td>\n",
       "      <td>3.694465e+05</td>\n",
       "      <td>0.013831</td>\n",
       "      <td>4363.988632</td>\n",
       "      <td>141275.766519</td>\n",
       "      <td>...</td>\n",
       "      <td>0.089798</td>\n",
       "      <td>0.024387</td>\n",
       "      <td>0.022518</td>\n",
       "      <td>0.018299</td>\n",
       "      <td>0.083849</td>\n",
       "      <td>0.110757</td>\n",
       "      <td>0.204685</td>\n",
       "      <td>0.916002</td>\n",
       "      <td>0.794056</td>\n",
       "      <td>1.869295</td>\n",
       "    </tr>\n",
       "    <tr>\n",
       "      <th>min</th>\n",
       "      <td>100002.000000</td>\n",
       "      <td>0.000000</td>\n",
       "      <td>0.000000</td>\n",
       "      <td>2.565000e+04</td>\n",
       "      <td>4.500000e+04</td>\n",
       "      <td>1615.500000</td>\n",
       "      <td>4.050000e+04</td>\n",
       "      <td>0.000290</td>\n",
       "      <td>-25229.000000</td>\n",
       "      <td>-17912.000000</td>\n",
       "      <td>...</td>\n",
       "      <td>0.000000</td>\n",
       "      <td>0.000000</td>\n",
       "      <td>0.000000</td>\n",
       "      <td>0.000000</td>\n",
       "      <td>0.000000</td>\n",
       "      <td>0.000000</td>\n",
       "      <td>0.000000</td>\n",
       "      <td>0.000000</td>\n",
       "      <td>0.000000</td>\n",
       "      <td>0.000000</td>\n",
       "    </tr>\n",
       "    <tr>\n",
       "      <th>25%</th>\n",
       "      <td>189145.500000</td>\n",
       "      <td>0.000000</td>\n",
       "      <td>0.000000</td>\n",
       "      <td>1.125000e+05</td>\n",
       "      <td>2.700000e+05</td>\n",
       "      <td>16524.000000</td>\n",
       "      <td>2.385000e+05</td>\n",
       "      <td>0.010006</td>\n",
       "      <td>-19682.000000</td>\n",
       "      <td>-2760.000000</td>\n",
       "      <td>...</td>\n",
       "      <td>0.000000</td>\n",
       "      <td>0.000000</td>\n",
       "      <td>0.000000</td>\n",
       "      <td>0.000000</td>\n",
       "      <td>0.000000</td>\n",
       "      <td>0.000000</td>\n",
       "      <td>0.000000</td>\n",
       "      <td>0.000000</td>\n",
       "      <td>0.000000</td>\n",
       "      <td>0.000000</td>\n",
       "    </tr>\n",
       "    <tr>\n",
       "      <th>50%</th>\n",
       "      <td>278202.000000</td>\n",
       "      <td>0.000000</td>\n",
       "      <td>0.000000</td>\n",
       "      <td>1.471500e+05</td>\n",
       "      <td>5.135310e+05</td>\n",
       "      <td>24903.000000</td>\n",
       "      <td>4.500000e+05</td>\n",
       "      <td>0.018850</td>\n",
       "      <td>-15750.000000</td>\n",
       "      <td>-1213.000000</td>\n",
       "      <td>...</td>\n",
       "      <td>0.000000</td>\n",
       "      <td>0.000000</td>\n",
       "      <td>0.000000</td>\n",
       "      <td>0.000000</td>\n",
       "      <td>0.000000</td>\n",
       "      <td>0.000000</td>\n",
       "      <td>0.000000</td>\n",
       "      <td>0.000000</td>\n",
       "      <td>0.000000</td>\n",
       "      <td>1.000000</td>\n",
       "    </tr>\n",
       "    <tr>\n",
       "      <th>75%</th>\n",
       "      <td>367142.500000</td>\n",
       "      <td>0.000000</td>\n",
       "      <td>1.000000</td>\n",
       "      <td>2.025000e+05</td>\n",
       "      <td>8.086500e+05</td>\n",
       "      <td>34596.000000</td>\n",
       "      <td>6.795000e+05</td>\n",
       "      <td>0.028663</td>\n",
       "      <td>-12413.000000</td>\n",
       "      <td>-289.000000</td>\n",
       "      <td>...</td>\n",
       "      <td>0.000000</td>\n",
       "      <td>0.000000</td>\n",
       "      <td>0.000000</td>\n",
       "      <td>0.000000</td>\n",
       "      <td>0.000000</td>\n",
       "      <td>0.000000</td>\n",
       "      <td>0.000000</td>\n",
       "      <td>0.000000</td>\n",
       "      <td>0.000000</td>\n",
       "      <td>3.000000</td>\n",
       "    </tr>\n",
       "    <tr>\n",
       "      <th>max</th>\n",
       "      <td>456255.000000</td>\n",
       "      <td>1.000000</td>\n",
       "      <td>19.000000</td>\n",
       "      <td>1.170000e+08</td>\n",
       "      <td>4.050000e+06</td>\n",
       "      <td>258025.500000</td>\n",
       "      <td>4.050000e+06</td>\n",
       "      <td>0.072508</td>\n",
       "      <td>-7489.000000</td>\n",
       "      <td>365243.000000</td>\n",
       "      <td>...</td>\n",
       "      <td>1.000000</td>\n",
       "      <td>1.000000</td>\n",
       "      <td>1.000000</td>\n",
       "      <td>1.000000</td>\n",
       "      <td>4.000000</td>\n",
       "      <td>9.000000</td>\n",
       "      <td>8.000000</td>\n",
       "      <td>27.000000</td>\n",
       "      <td>261.000000</td>\n",
       "      <td>25.000000</td>\n",
       "    </tr>\n",
       "  </tbody>\n",
       "</table>\n",
       "<p>8 rows × 106 columns</p>\n",
       "</div>"
      ],
      "text/plain": [
       "          SK_ID_CURR         TARGET   CNT_CHILDREN  AMT_INCOME_TOTAL  \\\n",
       "count  307511.000000  307511.000000  307511.000000      3.075110e+05   \n",
       "mean   278180.518577       0.080729       0.417052      1.687979e+05   \n",
       "std    102790.175348       0.272419       0.722121      2.371231e+05   \n",
       "min    100002.000000       0.000000       0.000000      2.565000e+04   \n",
       "25%    189145.500000       0.000000       0.000000      1.125000e+05   \n",
       "50%    278202.000000       0.000000       0.000000      1.471500e+05   \n",
       "75%    367142.500000       0.000000       1.000000      2.025000e+05   \n",
       "max    456255.000000       1.000000      19.000000      1.170000e+08   \n",
       "\n",
       "         AMT_CREDIT    AMT_ANNUITY  AMT_GOODS_PRICE  \\\n",
       "count  3.075110e+05  307499.000000     3.072330e+05   \n",
       "mean   5.990260e+05   27108.573909     5.383962e+05   \n",
       "std    4.024908e+05   14493.737315     3.694465e+05   \n",
       "min    4.500000e+04    1615.500000     4.050000e+04   \n",
       "25%    2.700000e+05   16524.000000     2.385000e+05   \n",
       "50%    5.135310e+05   24903.000000     4.500000e+05   \n",
       "75%    8.086500e+05   34596.000000     6.795000e+05   \n",
       "max    4.050000e+06  258025.500000     4.050000e+06   \n",
       "\n",
       "       REGION_POPULATION_RELATIVE     DAYS_BIRTH  DAYS_EMPLOYED  ...  \\\n",
       "count               307511.000000  307511.000000  307511.000000  ...   \n",
       "mean                     0.020868  -16036.995067   63815.045904  ...   \n",
       "std                      0.013831    4363.988632  141275.766519  ...   \n",
       "min                      0.000290  -25229.000000  -17912.000000  ...   \n",
       "25%                      0.010006  -19682.000000   -2760.000000  ...   \n",
       "50%                      0.018850  -15750.000000   -1213.000000  ...   \n",
       "75%                      0.028663  -12413.000000    -289.000000  ...   \n",
       "max                      0.072508   -7489.000000  365243.000000  ...   \n",
       "\n",
       "       FLAG_DOCUMENT_18  FLAG_DOCUMENT_19  FLAG_DOCUMENT_20  FLAG_DOCUMENT_21  \\\n",
       "count     307511.000000     307511.000000     307511.000000     307511.000000   \n",
       "mean           0.008130          0.000595          0.000507          0.000335   \n",
       "std            0.089798          0.024387          0.022518          0.018299   \n",
       "min            0.000000          0.000000          0.000000          0.000000   \n",
       "25%            0.000000          0.000000          0.000000          0.000000   \n",
       "50%            0.000000          0.000000          0.000000          0.000000   \n",
       "75%            0.000000          0.000000          0.000000          0.000000   \n",
       "max            1.000000          1.000000          1.000000          1.000000   \n",
       "\n",
       "       AMT_REQ_CREDIT_BUREAU_HOUR  AMT_REQ_CREDIT_BUREAU_DAY  \\\n",
       "count               265992.000000              265992.000000   \n",
       "mean                     0.006402                   0.007000   \n",
       "std                      0.083849                   0.110757   \n",
       "min                      0.000000                   0.000000   \n",
       "25%                      0.000000                   0.000000   \n",
       "50%                      0.000000                   0.000000   \n",
       "75%                      0.000000                   0.000000   \n",
       "max                      4.000000                   9.000000   \n",
       "\n",
       "       AMT_REQ_CREDIT_BUREAU_WEEK  AMT_REQ_CREDIT_BUREAU_MON  \\\n",
       "count               265992.000000              265992.000000   \n",
       "mean                     0.034362                   0.267395   \n",
       "std                      0.204685                   0.916002   \n",
       "min                      0.000000                   0.000000   \n",
       "25%                      0.000000                   0.000000   \n",
       "50%                      0.000000                   0.000000   \n",
       "75%                      0.000000                   0.000000   \n",
       "max                      8.000000                  27.000000   \n",
       "\n",
       "       AMT_REQ_CREDIT_BUREAU_QRT  AMT_REQ_CREDIT_BUREAU_YEAR  \n",
       "count              265992.000000               265992.000000  \n",
       "mean                    0.265474                    1.899974  \n",
       "std                     0.794056                    1.869295  \n",
       "min                     0.000000                    0.000000  \n",
       "25%                     0.000000                    0.000000  \n",
       "50%                     0.000000                    1.000000  \n",
       "75%                     0.000000                    3.000000  \n",
       "max                   261.000000                   25.000000  \n",
       "\n",
       "[8 rows x 106 columns]"
      ]
     },
     "execution_count": 212,
     "metadata": {},
     "output_type": "execute_result"
    }
   ],
   "source": [
    "TrainDF.describe()"
   ]
  },
  {
   "cell_type": "markdown",
   "id": "38867144",
   "metadata": {},
   "source": [
    "<a class=\"anchor\" id=\"exp3\"></a>\n",
    "## 4.3. Count of Target "
   ]
  },
  {
   "cell_type": "code",
   "execution_count": 213,
   "id": "4effeb84",
   "metadata": {},
   "outputs": [
    {
     "data": {
      "text/plain": [
       "0    282686\n",
       "1     24825\n",
       "Name: TARGET, dtype: int64"
      ]
     },
     "execution_count": 213,
     "metadata": {},
     "output_type": "execute_result"
    }
   ],
   "source": [
    "TrainDF['TARGET'].value_counts()"
   ]
  },
  {
   "cell_type": "markdown",
   "id": "fed1cd8e",
   "metadata": {},
   "source": [
    "According to the above values we can observe that the majority class is the 0 value and the minority class is the 1 value. Now we can check how each class is contributed in terms of percentages."
   ]
  },
  {
   "cell_type": "code",
   "execution_count": 214,
   "id": "c99dfb48",
   "metadata": {},
   "outputs": [
    {
     "data": {
      "text/plain": [
       "0    91.927118\n",
       "1     8.072882\n",
       "Name: TARGET, dtype: float64"
      ]
     },
     "execution_count": 214,
     "metadata": {},
     "output_type": "execute_result"
    }
   ],
   "source": [
    "(TrainDF['TARGET'].value_counts() / len(TrainDF)) * 100"
   ]
  },
  {
   "cell_type": "markdown",
   "id": "3e5054b3",
   "metadata": {},
   "source": [
    "Based on the percentages we can observe that the data present is unbalanced with respect to TARGET variable as there are 91.93% in majority class and only 8.07% in minority class. So the accuracy for a simple model consisting in a majority class classifier is around 0.92 i.e is always the majority class is predicted we would be correct 92% of the times.\n",
    "\n",
    "In the business sense if we are predicting that all the customers will not default the loan we will be correct 91.93% of times without using any models."
   ]
  },
  {
   "cell_type": "markdown",
   "id": "6827918c",
   "metadata": {},
   "source": [
    "<a class=\"anchor\" id=\"viz\"></a>\n",
    "# 5. Visualizations between Target and Predictors"
   ]
  },
  {
   "cell_type": "markdown",
   "id": "2e1bcf77",
   "metadata": {},
   "source": [
    "<a class=\"anchor\" id=\"viz1\"></a>\n",
    "## 5.1. Target Vs Gender"
   ]
  },
  {
   "cell_type": "code",
   "execution_count": 215,
   "id": "fd9811aa",
   "metadata": {},
   "outputs": [
    {
     "data": {
      "image/png": "[encoded data removed]",
      "text/plain": [
       "<Figure size 640x480 with 1 Axes>"
      ]
     },
     "metadata": {},
     "output_type": "display_data"
    }
   ],
   "source": [
    "gender = sns.countplot(x='CODE_GENDER', hue='TARGET', data=TrainDF)\n",
    "\n",
    "for p in gender.patches:\n",
    "    gender.annotate(f\"{p.get_height()}\", (p.get_x() + p.get_width() / 2, p.get_height()), ha='center')\n",
    "\n",
    "plt.title('Distribution of Gender Code based on Target')\n",
    "plt.xlabel('GENDER')\n",
    "plt.ylabel('TARGET')\n",
    "\n",
    "plt.show()"
   ]
  },
  {
   "cell_type": "markdown",
   "id": "630ccddf",
   "metadata": {},
   "source": [
    "From the above plot we can observe that the data is more on 'Female' gender compared to 'Male' gender. Also it can be observed that the difference in Gender is prominontly less and for Target = 1 rather than for Target = 0. But this can also be contributed to the fact that there is a lot more data on majority class compared to minority class."
   ]
  },
  {
   "cell_type": "markdown",
   "id": "4573a667",
   "metadata": {},
   "source": [
    "<a class=\"anchor\" id=\"viz2\"></a>\n",
    "## 5.2. Correlation values for all the predictors with TARGET"
   ]
  },
  {
   "cell_type": "code",
   "execution_count": 216,
   "id": "e398bc83",
   "metadata": {},
   "outputs": [
    {
     "name": "stdout",
     "output_type": "stream",
     "text": [
      "TARGET                         1.000000\n",
      "DAYS_BIRTH                     0.078239\n",
      "REGION_RATING_CLIENT_W_CITY    0.060893\n",
      "REGION_RATING_CLIENT           0.058899\n",
      "DAYS_LAST_PHONE_CHANGE         0.055218\n",
      "                                 ...   \n",
      "FLOORSMAX_AVG                 -0.044003\n",
      "DAYS_EMPLOYED                 -0.044932\n",
      "EXT_SOURCE_1                  -0.155317\n",
      "EXT_SOURCE_2                  -0.160472\n",
      "EXT_SOURCE_3                  -0.178919\n",
      "Name: TARGET, Length: 106, dtype: float64\n"
     ]
    }
   ],
   "source": [
    "# Calculate the correlations between the target variable and predictors\n",
    "correlation_matrix = TrainDF.corr(numeric_only = True)['TARGET'].sort_values(ascending=False)\n",
    "\n",
    "print(correlation_matrix)"
   ]
  },
  {
   "cell_type": "markdown",
   "id": "6b76f9f1",
   "metadata": {},
   "source": [
    "From the above correlation values we can see that the in the Numeric columns, the top 3 variables with strong negative correlation with Target variable are EXT_SOURCE_3, EXT_SOURCE_2 and EXT_SOURCE_1. On the other side the top 3 variables with strong positive correlation with Target variable are DAYS_BIRTH, REGION_RATING_CLIENT_W_CITY and REGION_RATING_CLIENT.\n",
    "\n",
    "\n",
    "We will visualize these in an heatmap to get a more outlook on this correlation data"
   ]
  },
  {
   "cell_type": "markdown",
   "id": "9295013c",
   "metadata": {},
   "source": [
    "<a class=\"anchor\" id=\"viz3\"></a>\n",
    "## 5.3 Top 5 positive and negative correlations to TARGET variable"
   ]
  },
  {
   "cell_type": "code",
   "execution_count": 217,
   "id": "7380c839",
   "metadata": {},
   "outputs": [
    {
     "data": {
      "image/png": "[encoded data removed]",
      "text/plain": [
       "<Figure size 500x400 with 1 Axes>"
      ]
     },
     "metadata": {},
     "output_type": "display_data"
    }
   ],
   "source": [
    "# Visualize the top 10 positive and negative correlations without the target variable\n",
    "plt.figure(figsize=(5, 4))\n",
    "top_correlations = pd.concat([correlation_matrix.drop('TARGET').head(5), correlation_matrix.drop('TARGET').tail(5)])\n",
    "colors = ['indianred' if c < 0 else 'steelblue' for c in top_correlations.values]\n",
    "sns.barplot(x=top_correlations.values, y=top_correlations.index, palette=colors)\n",
    "plt.xlabel('Correlation')\n",
    "plt.ylabel('Features')\n",
    "plt.title('Top 5 Positive and Negative Correlations without TARGET variable')\n",
    "for i, v in enumerate(top_correlations.values):\n",
    "    plt.text(v, i, str(round(v, 2)), va='center')\n",
    "plt.show()"
   ]
  },
  {
   "cell_type": "markdown",
   "id": "2372ded0",
   "metadata": {},
   "source": [
    "From the above plot we can see the list of the most correlated variables with Target and can be used in the modelling which are mentioned below\n",
    "\n",
    "The Top 5 Positive correlation variables are:\n",
    "*   DAYS_BIRTH\n",
    "*   REGION_RATING_CLIENT_W_CITY\n",
    "*   REGION_RATING_CLIENT\n",
    "*   DAYS_LAST_PHONE_CHANGE\n",
    "*   DAYS_ID_PUBLISH\n",
    "\n",
    "The Top 5 Negative correlation variables are:\n",
    "*   FLOORSMAX_AVG\n",
    "*   DAYS_EMPLOYED\n",
    "*   EXT_SOURCE_1\n",
    "*   EXT_SOURCE_2\n",
    "*   EXT_SOURCE_3"
   ]
  },
  {
   "cell_type": "markdown",
   "id": "ee8d8c2f",
   "metadata": {},
   "source": [
    "<a class=\"anchor\" id=\"missing\"></a>\n",
    "# 6. Missing Data"
   ]
  },
  {
   "cell_type": "markdown",
   "id": "c07cb230",
   "metadata": {},
   "source": [
    "First we will check the Variable 'CODE_GENDER' based on the visualization above and replace the unknown values(XNA)"
   ]
  },
  {
   "cell_type": "code",
   "execution_count": 218,
   "id": "210f1827",
   "metadata": {},
   "outputs": [
    {
     "data": {
      "text/plain": [
       "F      202448\n",
       "M      105059\n",
       "XNA         4\n",
       "Name: CODE_GENDER, dtype: int64"
      ]
     },
     "execution_count": 218,
     "metadata": {},
     "output_type": "execute_result"
    }
   ],
   "source": [
    "TrainDF['CODE_GENDER'].value_counts()"
   ]
  },
  {
   "cell_type": "markdown",
   "id": "171a80e6",
   "metadata": {},
   "source": [
    "As it can be observed from the values above above there are 4 missing values these can be replaced with the majority value of 'F' as there will be no impact on the data as this is a large dataset. We can also drop these rows as only 4 rows will not have any impact on the whole dataset. So, I am dropping the rows in this project."
   ]
  },
  {
   "cell_type": "code",
   "execution_count": 219,
   "id": "88698d80",
   "metadata": {},
   "outputs": [
    {
     "data": {
      "text/plain": [
       "(307507, 122)"
      ]
     },
     "execution_count": 219,
     "metadata": {},
     "output_type": "execute_result"
    }
   ],
   "source": [
    "TrainDF.drop(TrainDF[TrainDF['CODE_GENDER'] == 'XNA'].index, inplace = True)\n",
    "\n",
    "TrainDF.shape"
   ]
  },
  {
   "cell_type": "markdown",
   "id": "aa3bc304",
   "metadata": {},
   "source": [
    "Next moving on to find the missing data in the whole Train data"
   ]
  },
  {
   "cell_type": "code",
   "execution_count": 220,
   "id": "955df205",
   "metadata": {},
   "outputs": [
    {
     "data": {
      "text/html": [
       "<div>\n",
       "<style scoped>\n",
       "    .dataframe tbody tr th:only-of-type {\n",
       "        vertical-align: middle;\n",
       "    }\n",
       "\n",
       "    .dataframe tbody tr th {\n",
       "        vertical-align: top;\n",
       "    }\n",
       "\n",
       "    .dataframe thead th {\n",
       "        text-align: right;\n",
       "    }\n",
       "</style>\n",
       "<table border=\"1\" class=\"dataframe\">\n",
       "  <thead>\n",
       "    <tr style=\"text-align: right;\">\n",
       "      <th></th>\n",
       "      <th>Total</th>\n",
       "      <th>Percent</th>\n",
       "    </tr>\n",
       "  </thead>\n",
       "  <tbody>\n",
       "    <tr>\n",
       "      <th>COMMONAREA_MEDI</th>\n",
       "      <td>214862</td>\n",
       "      <td>69.872231</td>\n",
       "    </tr>\n",
       "    <tr>\n",
       "      <th>COMMONAREA_AVG</th>\n",
       "      <td>214862</td>\n",
       "      <td>69.872231</td>\n",
       "    </tr>\n",
       "    <tr>\n",
       "      <th>COMMONAREA_MODE</th>\n",
       "      <td>214862</td>\n",
       "      <td>69.872231</td>\n",
       "    </tr>\n",
       "    <tr>\n",
       "      <th>NONLIVINGAPARTMENTS_MODE</th>\n",
       "      <td>213512</td>\n",
       "      <td>69.433216</td>\n",
       "    </tr>\n",
       "    <tr>\n",
       "      <th>NONLIVINGAPARTMENTS_AVG</th>\n",
       "      <td>213512</td>\n",
       "      <td>69.433216</td>\n",
       "    </tr>\n",
       "    <tr>\n",
       "      <th>NONLIVINGAPARTMENTS_MEDI</th>\n",
       "      <td>213512</td>\n",
       "      <td>69.433216</td>\n",
       "    </tr>\n",
       "    <tr>\n",
       "      <th>FONDKAPREMONT_MODE</th>\n",
       "      <td>210293</td>\n",
       "      <td>68.386411</td>\n",
       "    </tr>\n",
       "    <tr>\n",
       "      <th>LIVINGAPARTMENTS_MODE</th>\n",
       "      <td>210197</td>\n",
       "      <td>68.355192</td>\n",
       "    </tr>\n",
       "    <tr>\n",
       "      <th>LIVINGAPARTMENTS_AVG</th>\n",
       "      <td>210197</td>\n",
       "      <td>68.355192</td>\n",
       "    </tr>\n",
       "    <tr>\n",
       "      <th>LIVINGAPARTMENTS_MEDI</th>\n",
       "      <td>210197</td>\n",
       "      <td>68.355192</td>\n",
       "    </tr>\n",
       "    <tr>\n",
       "      <th>FLOORSMIN_AVG</th>\n",
       "      <td>208640</td>\n",
       "      <td>67.848862</td>\n",
       "    </tr>\n",
       "    <tr>\n",
       "      <th>FLOORSMIN_MODE</th>\n",
       "      <td>208640</td>\n",
       "      <td>67.848862</td>\n",
       "    </tr>\n",
       "    <tr>\n",
       "      <th>FLOORSMIN_MEDI</th>\n",
       "      <td>208640</td>\n",
       "      <td>67.848862</td>\n",
       "    </tr>\n",
       "    <tr>\n",
       "      <th>YEARS_BUILD_MEDI</th>\n",
       "      <td>204486</td>\n",
       "      <td>66.497998</td>\n",
       "    </tr>\n",
       "    <tr>\n",
       "      <th>YEARS_BUILD_MODE</th>\n",
       "      <td>204486</td>\n",
       "      <td>66.497998</td>\n",
       "    </tr>\n",
       "    <tr>\n",
       "      <th>YEARS_BUILD_AVG</th>\n",
       "      <td>204486</td>\n",
       "      <td>66.497998</td>\n",
       "    </tr>\n",
       "    <tr>\n",
       "      <th>OWN_CAR_AGE</th>\n",
       "      <td>202927</td>\n",
       "      <td>65.991018</td>\n",
       "    </tr>\n",
       "    <tr>\n",
       "      <th>LANDAREA_MEDI</th>\n",
       "      <td>182588</td>\n",
       "      <td>59.376860</td>\n",
       "    </tr>\n",
       "    <tr>\n",
       "      <th>LANDAREA_MODE</th>\n",
       "      <td>182588</td>\n",
       "      <td>59.376860</td>\n",
       "    </tr>\n",
       "    <tr>\n",
       "      <th>LANDAREA_AVG</th>\n",
       "      <td>182588</td>\n",
       "      <td>59.376860</td>\n",
       "    </tr>\n",
       "    <tr>\n",
       "      <th>BASEMENTAREA_MEDI</th>\n",
       "      <td>179942</td>\n",
       "      <td>58.516391</td>\n",
       "    </tr>\n",
       "    <tr>\n",
       "      <th>BASEMENTAREA_AVG</th>\n",
       "      <td>179942</td>\n",
       "      <td>58.516391</td>\n",
       "    </tr>\n",
       "    <tr>\n",
       "      <th>BASEMENTAREA_MODE</th>\n",
       "      <td>179942</td>\n",
       "      <td>58.516391</td>\n",
       "    </tr>\n",
       "    <tr>\n",
       "      <th>EXT_SOURCE_1</th>\n",
       "      <td>173376</td>\n",
       "      <td>56.381156</td>\n",
       "    </tr>\n",
       "    <tr>\n",
       "      <th>NONLIVINGAREA_MODE</th>\n",
       "      <td>169680</td>\n",
       "      <td>55.179232</td>\n",
       "    </tr>\n",
       "    <tr>\n",
       "      <th>NONLIVINGAREA_AVG</th>\n",
       "      <td>169680</td>\n",
       "      <td>55.179232</td>\n",
       "    </tr>\n",
       "    <tr>\n",
       "      <th>NONLIVINGAREA_MEDI</th>\n",
       "      <td>169680</td>\n",
       "      <td>55.179232</td>\n",
       "    </tr>\n",
       "    <tr>\n",
       "      <th>ELEVATORS_MEDI</th>\n",
       "      <td>163890</td>\n",
       "      <td>53.296348</td>\n",
       "    </tr>\n",
       "    <tr>\n",
       "      <th>ELEVATORS_AVG</th>\n",
       "      <td>163890</td>\n",
       "      <td>53.296348</td>\n",
       "    </tr>\n",
       "    <tr>\n",
       "      <th>ELEVATORS_MODE</th>\n",
       "      <td>163890</td>\n",
       "      <td>53.296348</td>\n",
       "    </tr>\n",
       "    <tr>\n",
       "      <th>WALLSMATERIAL_MODE</th>\n",
       "      <td>156340</td>\n",
       "      <td>50.841119</td>\n",
       "    </tr>\n",
       "    <tr>\n",
       "      <th>APARTMENTS_MEDI</th>\n",
       "      <td>156060</td>\n",
       "      <td>50.750064</td>\n",
       "    </tr>\n",
       "    <tr>\n",
       "      <th>APARTMENTS_AVG</th>\n",
       "      <td>156060</td>\n",
       "      <td>50.750064</td>\n",
       "    </tr>\n",
       "    <tr>\n",
       "      <th>APARTMENTS_MODE</th>\n",
       "      <td>156060</td>\n",
       "      <td>50.750064</td>\n",
       "    </tr>\n",
       "    <tr>\n",
       "      <th>ENTRANCES_MEDI</th>\n",
       "      <td>154827</td>\n",
       "      <td>50.349098</td>\n",
       "    </tr>\n",
       "    <tr>\n",
       "      <th>ENTRANCES_AVG</th>\n",
       "      <td>154827</td>\n",
       "      <td>50.349098</td>\n",
       "    </tr>\n",
       "    <tr>\n",
       "      <th>ENTRANCES_MODE</th>\n",
       "      <td>154827</td>\n",
       "      <td>50.349098</td>\n",
       "    </tr>\n",
       "    <tr>\n",
       "      <th>LIVINGAREA_AVG</th>\n",
       "      <td>154349</td>\n",
       "      <td>50.193654</td>\n",
       "    </tr>\n",
       "    <tr>\n",
       "      <th>LIVINGAREA_MODE</th>\n",
       "      <td>154349</td>\n",
       "      <td>50.193654</td>\n",
       "    </tr>\n",
       "    <tr>\n",
       "      <th>LIVINGAREA_MEDI</th>\n",
       "      <td>154349</td>\n",
       "      <td>50.193654</td>\n",
       "    </tr>\n",
       "    <tr>\n",
       "      <th>HOUSETYPE_MODE</th>\n",
       "      <td>154296</td>\n",
       "      <td>50.176419</td>\n",
       "    </tr>\n",
       "    <tr>\n",
       "      <th>FLOORSMAX_MODE</th>\n",
       "      <td>153019</td>\n",
       "      <td>49.761144</td>\n",
       "    </tr>\n",
       "    <tr>\n",
       "      <th>FLOORSMAX_MEDI</th>\n",
       "      <td>153019</td>\n",
       "      <td>49.761144</td>\n",
       "    </tr>\n",
       "    <tr>\n",
       "      <th>FLOORSMAX_AVG</th>\n",
       "      <td>153019</td>\n",
       "      <td>49.761144</td>\n",
       "    </tr>\n",
       "    <tr>\n",
       "      <th>YEARS_BEGINEXPLUATATION_MODE</th>\n",
       "      <td>150006</td>\n",
       "      <td>48.781329</td>\n",
       "    </tr>\n",
       "    <tr>\n",
       "      <th>YEARS_BEGINEXPLUATATION_MEDI</th>\n",
       "      <td>150006</td>\n",
       "      <td>48.781329</td>\n",
       "    </tr>\n",
       "    <tr>\n",
       "      <th>YEARS_BEGINEXPLUATATION_AVG</th>\n",
       "      <td>150006</td>\n",
       "      <td>48.781329</td>\n",
       "    </tr>\n",
       "    <tr>\n",
       "      <th>TOTALAREA_MODE</th>\n",
       "      <td>148430</td>\n",
       "      <td>48.268820</td>\n",
       "    </tr>\n",
       "    <tr>\n",
       "      <th>EMERGENCYSTATE_MODE</th>\n",
       "      <td>145754</td>\n",
       "      <td>47.398596</td>\n",
       "    </tr>\n",
       "    <tr>\n",
       "      <th>OCCUPATION_TYPE</th>\n",
       "      <td>96389</td>\n",
       "      <td>31.345303</td>\n",
       "    </tr>\n",
       "  </tbody>\n",
       "</table>\n",
       "</div>"
      ],
      "text/plain": [
       "                               Total    Percent\n",
       "COMMONAREA_MEDI               214862  69.872231\n",
       "COMMONAREA_AVG                214862  69.872231\n",
       "COMMONAREA_MODE               214862  69.872231\n",
       "NONLIVINGAPARTMENTS_MODE      213512  69.433216\n",
       "NONLIVINGAPARTMENTS_AVG       213512  69.433216\n",
       "NONLIVINGAPARTMENTS_MEDI      213512  69.433216\n",
       "FONDKAPREMONT_MODE            210293  68.386411\n",
       "LIVINGAPARTMENTS_MODE         210197  68.355192\n",
       "LIVINGAPARTMENTS_AVG          210197  68.355192\n",
       "LIVINGAPARTMENTS_MEDI         210197  68.355192\n",
       "FLOORSMIN_AVG                 208640  67.848862\n",
       "FLOORSMIN_MODE                208640  67.848862\n",
       "FLOORSMIN_MEDI                208640  67.848862\n",
       "YEARS_BUILD_MEDI              204486  66.497998\n",
       "YEARS_BUILD_MODE              204486  66.497998\n",
       "YEARS_BUILD_AVG               204486  66.497998\n",
       "OWN_CAR_AGE                   202927  65.991018\n",
       "LANDAREA_MEDI                 182588  59.376860\n",
       "LANDAREA_MODE                 182588  59.376860\n",
       "LANDAREA_AVG                  182588  59.376860\n",
       "BASEMENTAREA_MEDI             179942  58.516391\n",
       "BASEMENTAREA_AVG              179942  58.516391\n",
       "BASEMENTAREA_MODE             179942  58.516391\n",
       "EXT_SOURCE_1                  173376  56.381156\n",
       "NONLIVINGAREA_MODE            169680  55.179232\n",
       "NONLIVINGAREA_AVG             169680  55.179232\n",
       "NONLIVINGAREA_MEDI            169680  55.179232\n",
       "ELEVATORS_MEDI                163890  53.296348\n",
       "ELEVATORS_AVG                 163890  53.296348\n",
       "ELEVATORS_MODE                163890  53.296348\n",
       "WALLSMATERIAL_MODE            156340  50.841119\n",
       "APARTMENTS_MEDI               156060  50.750064\n",
       "APARTMENTS_AVG                156060  50.750064\n",
       "APARTMENTS_MODE               156060  50.750064\n",
       "ENTRANCES_MEDI                154827  50.349098\n",
       "ENTRANCES_AVG                 154827  50.349098\n",
       "ENTRANCES_MODE                154827  50.349098\n",
       "LIVINGAREA_AVG                154349  50.193654\n",
       "LIVINGAREA_MODE               154349  50.193654\n",
       "LIVINGAREA_MEDI               154349  50.193654\n",
       "HOUSETYPE_MODE                154296  50.176419\n",
       "FLOORSMAX_MODE                153019  49.761144\n",
       "FLOORSMAX_MEDI                153019  49.761144\n",
       "FLOORSMAX_AVG                 153019  49.761144\n",
       "YEARS_BEGINEXPLUATATION_MODE  150006  48.781329\n",
       "YEARS_BEGINEXPLUATATION_MEDI  150006  48.781329\n",
       "YEARS_BEGINEXPLUATATION_AVG   150006  48.781329\n",
       "TOTALAREA_MODE                148430  48.268820\n",
       "EMERGENCYSTATE_MODE           145754  47.398596\n",
       "OCCUPATION_TYPE                96389  31.345303"
      ]
     },
     "execution_count": 220,
     "metadata": {},
     "output_type": "execute_result"
    }
   ],
   "source": [
    "#Total & Percentage of missing data\n",
    "\n",
    "total = TrainDF.isnull().sum().sort_values(ascending = False)\n",
    "percent = (TrainDF.isnull().sum()/TrainDF.isnull().count()*100).sort_values(ascending = False)\n",
    "missing_application_train_data  = pd.concat([total, percent], axis=1, keys=['Total', 'Percent'])\n",
    "missing_application_train_data.head(50)"
   ]
  },
  {
   "cell_type": "markdown",
   "id": "8025fb27",
   "metadata": {},
   "source": [
    "<a class=\"anchor\" id=\"missing1\"></a>\n",
    "## 6.1 Dropping columns with missing data"
   ]
  },
  {
   "cell_type": "markdown",
   "id": "bfd317e3",
   "metadata": {},
   "source": [
    "Since there are a total of 122 columns we can drop the columns which give the least information. If there is more than 50% of the data is missing from the column that column doesnot any onsite on Taraget variable so it is better to drop those columns. So first we can check how many and what columns have more than 50% of missing data. "
   ]
  },
  {
   "cell_type": "code",
   "execution_count": 221,
   "id": "5dc834b1",
   "metadata": {},
   "outputs": [
    {
     "name": "stdout",
     "output_type": "stream",
     "text": [
      "                           Total    Percent\n",
      "COMMONAREA_MEDI           214862  69.872231\n",
      "COMMONAREA_AVG            214862  69.872231\n",
      "COMMONAREA_MODE           214862  69.872231\n",
      "NONLIVINGAPARTMENTS_MODE  213512  69.433216\n",
      "NONLIVINGAPARTMENTS_AVG   213512  69.433216\n",
      "NONLIVINGAPARTMENTS_MEDI  213512  69.433216\n",
      "FONDKAPREMONT_MODE        210293  68.386411\n",
      "LIVINGAPARTMENTS_MODE     210197  68.355192\n",
      "LIVINGAPARTMENTS_AVG      210197  68.355192\n",
      "LIVINGAPARTMENTS_MEDI     210197  68.355192\n",
      "FLOORSMIN_AVG             208640  67.848862\n",
      "FLOORSMIN_MODE            208640  67.848862\n",
      "FLOORSMIN_MEDI            208640  67.848862\n",
      "YEARS_BUILD_MEDI          204486  66.497998\n",
      "YEARS_BUILD_MODE          204486  66.497998\n",
      "YEARS_BUILD_AVG           204486  66.497998\n",
      "OWN_CAR_AGE               202927  65.991018\n",
      "LANDAREA_MEDI             182588  59.376860\n",
      "LANDAREA_MODE             182588  59.376860\n",
      "LANDAREA_AVG              182588  59.376860\n",
      "BASEMENTAREA_MEDI         179942  58.516391\n",
      "BASEMENTAREA_AVG          179942  58.516391\n",
      "BASEMENTAREA_MODE         179942  58.516391\n",
      "EXT_SOURCE_1              173376  56.381156\n",
      "NONLIVINGAREA_MODE        169680  55.179232\n",
      "NONLIVINGAREA_AVG         169680  55.179232\n",
      "NONLIVINGAREA_MEDI        169680  55.179232\n",
      "ELEVATORS_MEDI            163890  53.296348\n",
      "ELEVATORS_AVG             163890  53.296348\n",
      "ELEVATORS_MODE            163890  53.296348\n",
      "WALLSMATERIAL_MODE        156340  50.841119\n",
      "APARTMENTS_MEDI           156060  50.750064\n",
      "APARTMENTS_AVG            156060  50.750064\n",
      "APARTMENTS_MODE           156060  50.750064\n",
      "ENTRANCES_MEDI            154827  50.349098\n",
      "ENTRANCES_AVG             154827  50.349098\n",
      "ENTRANCES_MODE            154827  50.349098\n",
      "LIVINGAREA_AVG            154349  50.193654\n",
      "LIVINGAREA_MODE           154349  50.193654\n",
      "LIVINGAREA_MEDI           154349  50.193654\n",
      "HOUSETYPE_MODE            154296  50.176419\n"
     ]
    }
   ],
   "source": [
    "missing_50per_cols = missing_application_train_data[missing_application_train_data.Percent > 50 ]\n",
    "\n",
    "print(missing_50per_cols)"
   ]
  },
  {
   "cell_type": "code",
   "execution_count": 222,
   "id": "402d22cf",
   "metadata": {},
   "outputs": [
    {
     "data": {
      "text/plain": [
       "41"
      ]
     },
     "execution_count": 222,
     "metadata": {},
     "output_type": "execute_result"
    }
   ],
   "source": [
    "len(missing_50per_cols)"
   ]
  },
  {
   "cell_type": "markdown",
   "id": "c010b795",
   "metadata": {},
   "source": [
    "From the above missing columns we can see that the column 'OWN_CAR_AGE' is present but not the variable 'FLAG_OWN_CAR'. So we can check the values of 'OWN_CAR_AGE' seperately. But the other columns doesn't seem to have strong connection with the remaining data so those 40 columns can be droped."
   ]
  },
  {
   "cell_type": "code",
   "execution_count": 223,
   "id": "5db91563",
   "metadata": {},
   "outputs": [
    {
     "data": {
      "text/plain": [
       "(307507, 82)"
      ]
     },
     "execution_count": 223,
     "metadata": {},
     "output_type": "execute_result"
    }
   ],
   "source": [
    "missing_50per_cols_index = list(missing_50per_cols.index)\n",
    "missing_50per_cols_index.remove(\"OWN_CAR_AGE\")\n",
    "\n",
    "TrainDF = TrainDF.drop(missing_50per_cols_index, axis =1)\n",
    "TrainDF.shape"
   ]
  },
  {
   "cell_type": "markdown",
   "id": "8946ee81",
   "metadata": {},
   "source": [
    "<a class=\"anchor\" id=\"missing2\"></a>\n",
    "## 6.2 Filling the missing values of column 'OWN_CAR_AGE'"
   ]
  },
  {
   "cell_type": "markdown",
   "id": "5dac5a74",
   "metadata": {},
   "source": [
    "First, let's check the values and count of missing and available values in columns 'OWN_CAR_AGE' and 'FLAG_OWN_CAR'"
   ]
  },
  {
   "cell_type": "code",
   "execution_count": 224,
   "id": "007358cd",
   "metadata": {},
   "outputs": [
    {
     "name": "stdout",
     "output_type": "stream",
     "text": [
      "N    202922\n",
      "Y    104585\n",
      "Name: FLAG_OWN_CAR, dtype: int64\n",
      "202927\n"
     ]
    }
   ],
   "source": [
    "# Count the occurrences of FLAG_OWN_CAR values in the training dataset\n",
    "Flag_car_counts = TrainDF['FLAG_OWN_CAR'].value_counts()\n",
    "\n",
    "# Get the count for the missing values in OWN_CAR_AGE column\n",
    "Missing_car_age = TrainDF['OWN_CAR_AGE'].isnull().sum()\n",
    "\n",
    "print(Flag_car_counts)\n",
    "print(Missing_car_age)"
   ]
  },
  {
   "cell_type": "markdown",
   "id": "60cf5f7c",
   "metadata": {},
   "source": [
    "From the above values we can observe that there are no missing values in FLAG_OWN_CAR column but there are 202922 customers doesn't own cars which is very near to 202927 for whom the data is missing for OWN_CAR_AGE column. So for those people the values in column 'OWN_CAR_AGE' will not be present so we can replace missing values with '-1' as the customer who owns car in less than 1 year will have 0 value in that column "
   ]
  },
  {
   "cell_type": "code",
   "execution_count": 225,
   "id": "82388270",
   "metadata": {},
   "outputs": [
    {
     "data": {
      "text/plain": [
       "0"
      ]
     },
     "execution_count": 225,
     "metadata": {},
     "output_type": "execute_result"
    }
   ],
   "source": [
    "TrainDF['OWN_CAR_AGE'] = TrainDF['OWN_CAR_AGE'].fillna(-1)\n",
    "\n",
    "TrainDF['OWN_CAR_AGE'].isnull().sum()"
   ]
  },
  {
   "cell_type": "markdown",
   "id": "bd846961",
   "metadata": {},
   "source": [
    "<a class=\"anchor\" id=\"missing3\"></a>\n",
    "## 6.3 Columns with no missing columns"
   ]
  },
  {
   "cell_type": "code",
   "execution_count": 226,
   "id": "cbbd1235",
   "metadata": {},
   "outputs": [
    {
     "name": "stdout",
     "output_type": "stream",
     "text": [
      "Index(['SK_ID_CURR', 'TARGET', 'NAME_CONTRACT_TYPE', 'CODE_GENDER',\n",
      "       'FLAG_OWN_CAR', 'FLAG_OWN_REALTY', 'CNT_CHILDREN', 'AMT_INCOME_TOTAL',\n",
      "       'AMT_CREDIT', 'NAME_INCOME_TYPE', 'NAME_EDUCATION_TYPE',\n",
      "       'NAME_FAMILY_STATUS', 'NAME_HOUSING_TYPE', 'REGION_POPULATION_RELATIVE',\n",
      "       'DAYS_BIRTH', 'DAYS_EMPLOYED', 'DAYS_REGISTRATION', 'DAYS_ID_PUBLISH',\n",
      "       'OWN_CAR_AGE', 'FLAG_MOBIL', 'FLAG_EMP_PHONE', 'FLAG_WORK_PHONE',\n",
      "       'FLAG_CONT_MOBILE', 'FLAG_PHONE', 'FLAG_EMAIL', 'REGION_RATING_CLIENT',\n",
      "       'REGION_RATING_CLIENT_W_CITY', 'WEEKDAY_APPR_PROCESS_START',\n",
      "       'HOUR_APPR_PROCESS_START', 'REG_REGION_NOT_LIVE_REGION',\n",
      "       'REG_REGION_NOT_WORK_REGION', 'LIVE_REGION_NOT_WORK_REGION',\n",
      "       'REG_CITY_NOT_LIVE_CITY', 'REG_CITY_NOT_WORK_CITY',\n",
      "       'LIVE_CITY_NOT_WORK_CITY', 'ORGANIZATION_TYPE', 'FLAG_DOCUMENT_2',\n",
      "       'FLAG_DOCUMENT_3', 'FLAG_DOCUMENT_4', 'FLAG_DOCUMENT_5',\n",
      "       'FLAG_DOCUMENT_6', 'FLAG_DOCUMENT_7', 'FLAG_DOCUMENT_8',\n",
      "       'FLAG_DOCUMENT_9', 'FLAG_DOCUMENT_10', 'FLAG_DOCUMENT_11',\n",
      "       'FLAG_DOCUMENT_12', 'FLAG_DOCUMENT_13', 'FLAG_DOCUMENT_14',\n",
      "       'FLAG_DOCUMENT_15', 'FLAG_DOCUMENT_16', 'FLAG_DOCUMENT_17',\n",
      "       'FLAG_DOCUMENT_18', 'FLAG_DOCUMENT_19', 'FLAG_DOCUMENT_20',\n",
      "       'FLAG_DOCUMENT_21'],\n",
      "      dtype='object')\n"
     ]
    },
    {
     "data": {
      "text/plain": [
       "(307507, 56)"
      ]
     },
     "execution_count": 226,
     "metadata": {},
     "output_type": "execute_result"
    }
   ],
   "source": [
    "No_missing_columns = TrainDF.loc[:, TrainDF.isnull().sum()==0]\n",
    "\n",
    "print(No_missing_columns.columns)\n",
    "\n",
    "No_missing_columns.shape"
   ]
  },
  {
   "cell_type": "markdown",
   "id": "e0c5a1c8",
   "metadata": {},
   "source": [
    "From above we can observe that there are 56 columns ith no missing data and we can also see the names of columns which doesn't contain any missing data."
   ]
  },
  {
   "cell_type": "markdown",
   "id": "65517f10",
   "metadata": {},
   "source": [
    "<a class=\"anchor\" id=\"missing4\"></a>\n",
    "## 6.4 Separating Categorical and Numerical Data for further processing of missing data"
   ]
  },
  {
   "cell_type": "code",
   "execution_count": 227,
   "id": "68a66c64",
   "metadata": {},
   "outputs": [],
   "source": [
    "# Differentiating Numerical and Categorical Column\n",
    "\n",
    "cols = []\n",
    "for i in list(TrainDF.columns):\n",
    "  cols.append(i)\n",
    "\n",
    "num_cols = list(TrainDF._get_numeric_data().columns) #storing numerical cols in num_cols\n"
   ]
  },
  {
   "cell_type": "code",
   "execution_count": 228,
   "id": "7512e2f7",
   "metadata": {},
   "outputs": [
    {
     "data": {
      "text/plain": [
       "69"
      ]
     },
     "execution_count": 228,
     "metadata": {},
     "output_type": "execute_result"
    }
   ],
   "source": [
    "# number of Numerical Coulmns\n",
    "len(num_cols)"
   ]
  },
  {
   "cell_type": "code",
   "execution_count": 229,
   "id": "1518639a",
   "metadata": {},
   "outputs": [],
   "source": [
    "# Separating Categorical Data for Independent Imputation and Outlier Treatment of Numerical Data\n",
    "cat_cols = list(set(num_cols) ^ set(cols))"
   ]
  },
  {
   "cell_type": "code",
   "execution_count": 230,
   "id": "c18cd757",
   "metadata": {},
   "outputs": [
    {
     "data": {
      "text/plain": [
       "13"
      ]
     },
     "execution_count": 230,
     "metadata": {},
     "output_type": "execute_result"
    }
   ],
   "source": [
    "# number oof Categorical columns\n",
    "\n",
    "len(cat_cols)"
   ]
  },
  {
   "cell_type": "markdown",
   "id": "80602ba7",
   "metadata": {},
   "source": [
    "If some numeric data can be moved to categorical data as few of the categories are coded as 0 and 1 like ratings so we need to find that columns and move them to categorical columns from numerical columns also removing 'TARGET' and 'SK_ID_CURR' as they are not required for Impuation"
   ]
  },
  {
   "cell_type": "code",
   "execution_count": 231,
   "id": "c78206a7",
   "metadata": {},
   "outputs": [
    {
     "data": {
      "text/plain": [
       "35"
      ]
     },
     "execution_count": 231,
     "metadata": {},
     "output_type": "execute_result"
    }
   ],
   "source": [
    "# for the columns with values only 0 and 1 like flags move those columns to categorical\n",
    "\n",
    "num_cols.remove(\"SK_ID_CURR\")\n",
    "num_cols.remove(\"TARGET\")\n",
    "\n",
    "copy_num_cols = num_cols.copy()\n",
    "for column in copy_num_cols:\n",
    "    values=list(TrainDF[column].unique())\n",
    "    if len(values)==2 and 1.0 in values and 0.0 in values:\n",
    "      cat_cols.append(column)\n",
    "      num_cols.remove(column)\n",
    "\n",
    "len(num_cols)"
   ]
  },
  {
   "cell_type": "code",
   "execution_count": 232,
   "id": "a87dd8d7",
   "metadata": {},
   "outputs": [
    {
     "data": {
      "text/plain": [
       "45"
      ]
     },
     "execution_count": 232,
     "metadata": {},
     "output_type": "execute_result"
    }
   ],
   "source": [
    "len(cat_cols)"
   ]
  },
  {
   "cell_type": "code",
   "execution_count": 233,
   "id": "a42322dd",
   "metadata": {},
   "outputs": [
    {
     "name": "stdout",
     "output_type": "stream",
     "text": [
      "[2 1 3]\n",
      "[2 1 3]\n"
     ]
    }
   ],
   "source": [
    "print(TrainDF['REGION_RATING_CLIENT'].unique())\n",
    "print(TrainDF['REGION_RATING_CLIENT_W_CITY'].unique())"
   ]
  },
  {
   "cell_type": "markdown",
   "id": "0f1c41be",
   "metadata": {},
   "source": [
    "Since there are only 3 values in the columns 'REGION_RATING_CLIENT' and 'REGION_RATING_CLIENT_W_CITY' we can treat them as categorical data and can be removed from numerical data"
   ]
  },
  {
   "cell_type": "code",
   "execution_count": 234,
   "id": "fad5bb42",
   "metadata": {},
   "outputs": [],
   "source": [
    "cat_cols.append('REGION_RATING_CLIENT')\n",
    "num_cols.remove('REGION_RATING_CLIENT')\n",
    "\n",
    "cat_cols.append('REGION_RATING_CLIENT_W_CITY')\n",
    "num_cols.remove('REGION_RATING_CLIENT_W_CITY')\n"
   ]
  },
  {
   "cell_type": "code",
   "execution_count": 235,
   "id": "c72b4efe",
   "metadata": {},
   "outputs": [],
   "source": [
    "# Creating DFs for numerical and categorical data seperatly\n",
    "\n",
    "cat_df = TrainDF[cat_cols]\n",
    "num_df = TrainDF[num_cols]"
   ]
  },
  {
   "cell_type": "code",
   "execution_count": 236,
   "id": "eec8e574",
   "metadata": {},
   "outputs": [
    {
     "data": {
      "text/plain": [
       "OCCUPATION_TYPE         96389\n",
       "EMERGENCYSTATE_MODE    145754\n",
       "NAME_TYPE_SUITE          1292\n",
       "dtype: int64"
      ]
     },
     "execution_count": 236,
     "metadata": {},
     "output_type": "execute_result"
    }
   ],
   "source": [
    "na = cat_df.isna().sum()\n",
    "na[na>0]"
   ]
  },
  {
   "cell_type": "code",
   "execution_count": 237,
   "id": "3e724336",
   "metadata": {},
   "outputs": [],
   "source": [
    "# Checking the number of null values in numerical columns"
   ]
  },
  {
   "cell_type": "code",
   "execution_count": 238,
   "id": "5d32867e",
   "metadata": {},
   "outputs": [
    {
     "data": {
      "text/plain": [
       "AMT_ANNUITY                         12\n",
       "AMT_GOODS_PRICE                    278\n",
       "CNT_FAM_MEMBERS                      2\n",
       "EXT_SOURCE_2                       660\n",
       "EXT_SOURCE_3                     60965\n",
       "YEARS_BEGINEXPLUATATION_AVG     150006\n",
       "FLOORSMAX_AVG                   153019\n",
       "YEARS_BEGINEXPLUATATION_MODE    150006\n",
       "FLOORSMAX_MODE                  153019\n",
       "YEARS_BEGINEXPLUATATION_MEDI    150006\n",
       "FLOORSMAX_MEDI                  153019\n",
       "TOTALAREA_MODE                  148430\n",
       "OBS_30_CNT_SOCIAL_CIRCLE          1021\n",
       "DEF_30_CNT_SOCIAL_CIRCLE          1021\n",
       "OBS_60_CNT_SOCIAL_CIRCLE          1021\n",
       "DEF_60_CNT_SOCIAL_CIRCLE          1021\n",
       "DAYS_LAST_PHONE_CHANGE               1\n",
       "AMT_REQ_CREDIT_BUREAU_HOUR       41519\n",
       "AMT_REQ_CREDIT_BUREAU_DAY        41519\n",
       "AMT_REQ_CREDIT_BUREAU_WEEK       41519\n",
       "AMT_REQ_CREDIT_BUREAU_MON        41519\n",
       "AMT_REQ_CREDIT_BUREAU_QRT        41519\n",
       "AMT_REQ_CREDIT_BUREAU_YEAR       41519\n",
       "dtype: int64"
      ]
     },
     "execution_count": 238,
     "metadata": {},
     "output_type": "execute_result"
    }
   ],
   "source": [
    "nulls = num_df.isnull().sum()\n",
    "nulls[nulls> 0]\n"
   ]
  },
  {
   "cell_type": "markdown",
   "id": "05ca6312",
   "metadata": {},
   "source": [
    "<a class=\"anchor\" id=\"missing5\"></a>\n",
    "## 6.5 Performing Missing Value Imputation"
   ]
  },
  {
   "cell_type": "code",
   "execution_count": 239,
   "id": "1de29f4c",
   "metadata": {},
   "outputs": [],
   "source": [
    "# Applying Median Imputation for Numerical Data and\n",
    "# Mode (Most Frequent) Imputation for Categorical Data due to Skewed Distribution\n",
    "\n",
    "from sklearn.impute import SimpleImputer\n",
    "imputer = SimpleImputer(strategy='median')  # use 'median' for skewed data\n",
    "TrainDF[num_cols] = imputer.fit_transform(TrainDF[num_cols])\n",
    "\n",
    "imputer = SimpleImputer(strategy='most_frequent')  # use 'mode' for skewed data\n",
    "TrainDF[cat_cols] = imputer.fit_transform(TrainDF[cat_cols])"
   ]
  },
  {
   "cell_type": "markdown",
   "id": "83221dfc",
   "metadata": {},
   "source": [
    "<a class=\"anchor\" id=\"variance\"></a>\n",
    "# 7. Checking Variance for Numerical Data"
   ]
  },
  {
   "cell_type": "code",
   "execution_count": 240,
   "id": "d5c4e393",
   "metadata": {},
   "outputs": [
    {
     "data": {
      "text/plain": [
       "CNT_CHILDREN                    5.214557e-01\n",
       "AMT_INCOME_TOTAL                5.622809e+10\n",
       "AMT_CREDIT                      1.620003e+11\n",
       "AMT_ANNUITY                     2.100702e+08\n",
       "AMT_GOODS_PRICE                 1.364913e+11\n",
       "REGION_POPULATION_RELATIVE      1.913053e-04\n",
       "DAYS_BIRTH                      1.904434e+07\n",
       "DAYS_EMPLOYED                   1.995904e+10\n",
       "DAYS_REGISTRATION               1.241070e+07\n",
       "DAYS_ID_PUBLISH                 2.278453e+06\n",
       "OWN_CAR_AGE                     8.681015e+01\n",
       "CNT_FAM_MEMBERS                 8.293381e-01\n",
       "HOUR_APPR_PROCESS_START         1.066568e+01\n",
       "EXT_SOURCE_2                    3.650404e-02\n",
       "EXT_SOURCE_3                    3.796392e-02\n",
       "YEARS_BEGINEXPLUATATION_AVG     3.507466e-03\n",
       "FLOORSMAX_AVG                   2.092096e-02\n",
       "YEARS_BEGINEXPLUATATION_MODE    4.170065e-03\n",
       "FLOORSMAX_MODE                  2.065244e-02\n",
       "YEARS_BEGINEXPLUATATION_MEDI    3.587755e-03\n",
       "FLOORSMAX_MEDI                  2.104448e-02\n",
       "TOTALAREA_MODE                  1.154827e-02\n",
       "OBS_30_CNT_SOCIAL_CIRCLE        5.764467e+00\n",
       "DEF_30_CNT_SOCIAL_CIRCLE        1.994910e-01\n",
       "OBS_60_CNT_SOCIAL_CIRCLE        5.663182e+00\n",
       "DEF_60_CNT_SOCIAL_CIRCLE        1.312040e-01\n",
       "DAYS_LAST_PHONE_CHANGE          6.836172e+05\n",
       "AMT_REQ_CREDIT_BUREAU_HOUR      7.030781e-03\n",
       "AMT_REQ_CREDIT_BUREAU_DAY       1.226739e-02\n",
       "AMT_REQ_CREDIT_BUREAU_WEEK      4.189651e-02\n",
       "AMT_REQ_CREDIT_BUREAU_MON       8.390441e-01\n",
       "AMT_REQ_CREDIT_BUREAU_QRT       6.305310e-01\n",
       "AMT_REQ_CREDIT_BUREAU_YEAR      3.494229e+00\n",
       "dtype: float64"
      ]
     },
     "execution_count": 240,
     "metadata": {},
     "output_type": "execute_result"
    }
   ],
   "source": [
    "num_df.var()"
   ]
  },
  {
   "cell_type": "markdown",
   "id": "c4e777f4",
   "metadata": {},
   "source": [
    "There are no columns that are very near to 0 varience, but there are few which are near to 1 in terms of varience that means that those cloumns are mostly constant values are have very less variance that will not provide much information regading the Target varable so will not have much use in Analysis while creating the model."
   ]
  },
  {
   "cell_type": "markdown",
   "id": "4a00aac6",
   "metadata": {},
   "source": [
    "<a class=\"anchor\" id=\"eda\"></a>\n",
    "# 8. Exploratory Data Analysis"
   ]
  },
  {
   "cell_type": "markdown",
   "id": "08841b4b",
   "metadata": {},
   "source": [
    "Let us explore some of the variables more to find the relation of that varable with the Target Variable"
   ]
  },
  {
   "cell_type": "code",
   "execution_count": 241,
   "id": "a15cf1fa",
   "metadata": {},
   "outputs": [
    {
     "data": {
      "image/png": "[encoded data removed]",
      "text/plain": [
       "<Figure size 640x480 with 1 Axes>"
      ]
     },
     "metadata": {},
     "output_type": "display_data"
    }
   ],
   "source": [
    "# Visualization between Housing type and the Target Variable\n",
    "\n",
    "sns.countplot(x='NAME_HOUSING_TYPE', hue='TARGET', data=TrainDF)\n",
    "plt.title(\"Housing type vs Target Variable\")\n",
    "plt.xticks(rotation = 45)\n",
    "plt.legend(labels = ['No Default', 'Default'])\n",
    "plt.show()"
   ]
  },
  {
   "cell_type": "markdown",
   "id": "f81b7d76",
   "metadata": {},
   "source": [
    "From the above plot, we can analize that the individuals who own House/apartment has more chance of paying back the loan than the other categories."
   ]
  },
  {
   "cell_type": "code",
   "execution_count": 242,
   "id": "618a3018",
   "metadata": {},
   "outputs": [
    {
     "data": {
      "image/png": "[encoded data removed]",
      "text/plain": [
       "<Figure size 640x480 with 1 Axes>"
      ]
     },
     "metadata": {},
     "output_type": "display_data"
    }
   ],
   "source": [
    "# Visualization between Education Type and Credit Amount vs Target Variable\n",
    "\n",
    "sns.boxplot(x='NAME_EDUCATION_TYPE', y='AMT_CREDIT', hue='TARGET', data=TrainDF)\n",
    "\n",
    "plt.title(\"Education Type and Credit Amount vs Target Variable\")\n",
    "plt.xlabel(\"Education Type\")\n",
    "plt.ylabel(\"Credit Amount\")\n",
    "plt.xticks(rotation = 45)\n",
    "plt.show()"
   ]
  },
  {
   "cell_type": "markdown",
   "id": "f27204f2",
   "metadata": {},
   "source": [
    "From the above plot we can find that the Education type has a lot of effect on the clients behaviour towards the repayment of the loan so this is one of the a main factor for the analysis"
   ]
  },
  {
   "cell_type": "code",
   "execution_count": 243,
   "id": "f3fbda5d",
   "metadata": {},
   "outputs": [
    {
     "data": {
      "image/png": "[encoded data removed]",
      "text/plain": [
       "<Figure size 640x480 with 1 Axes>"
      ]
     },
     "metadata": {},
     "output_type": "display_data"
    }
   ],
   "source": [
    "# Visualization between Income Type and Loan Taken with the Target Varibale\n",
    "\n",
    "sns.boxplot(x='NAME_INCOME_TYPE', y='AMT_ANNUITY', hue='TARGET', data=TrainDF)\n",
    "\n",
    "\n",
    "plt.title('Annuity Amount by Employment Type and Repayment Status')\n",
    "plt.xlabel('Employment Type')\n",
    "plt.ylabel('Annuity')\n",
    "plt.xticks(rotation=90)\n",
    "\n",
    "plt.show()"
   ]
  },
  {
   "cell_type": "markdown",
   "id": "f429caaa",
   "metadata": {},
   "source": [
    "From the above plot we can see that Businessmans and the students  will repay the loan without default where as the other categories has varying levels of repayment so these variables can be considered for further analysis"
   ]
  },
  {
   "cell_type": "markdown",
   "id": "ee2ac707",
   "metadata": {},
   "source": [
    "Still there are other important variables which can be considered like the FLAG_OWN_CAR and OWN_CAR_AGE which we have previously discussed in the missing data section. \n",
    "\n",
    "Further more Analysis on the data can be done when actual modelling is started and more information is collected from the model. "
   ]
  },
  {
   "cell_type": "markdown",
   "id": "cd684290",
   "metadata": {},
   "source": [
    "<a class=\"anchor\" id=\"out\"></a>\n",
    "# 9. Outliers"
   ]
  },
  {
   "cell_type": "markdown",
   "id": "c1a1cf23",
   "metadata": {},
   "source": [
    "<a class=\"anchor\" id=\"out1\"></a>\n",
    "## 9.1 Detecting Outliers"
   ]
  },
  {
   "cell_type": "markdown",
   "id": "bc4b2c17",
   "metadata": {},
   "source": [
    "As we can find from above box plots there lot of outliers present in the data. We Can find the presence of Outliers in the numerical columns by using the Kurtosis method. A high kurtosis value indicates the presence of high tailed distribution."
   ]
  },
  {
   "cell_type": "code",
   "execution_count": 244,
   "id": "eff809b9",
   "metadata": {},
   "outputs": [
    {
     "name": "stdout",
     "output_type": "stream",
     "text": [
      "Kurtosis of column CNT_CHILDREN: 7.904369015326672\n",
      "Kurtosis of column AMT_INCOME_TOTAL: 191784.25918688532\n",
      "Kurtosis of column AMT_CREDIT: 1.9339822296152818\n",
      "Kurtosis of column AMT_ANNUITY: 7.707235274219133\n",
      "Kurtosis of column AMT_GOODS_PRICE: 2.431912179837508\n",
      "Kurtosis of column REGION_POPULATION_RELATIVE: 3.260125593923247\n",
      "Kurtosis of column DAYS_BIRTH: -1.0491182413755826\n",
      "Kurtosis of column DAYS_EMPLOYED: 0.7715437198229642\n",
      "Kurtosis of column DAYS_REGISTRATION: -0.3213352106995022\n",
      "Kurtosis of column DAYS_ID_PUBLISH: -1.1068116373741452\n",
      "Kurtosis of column OWN_CAR_AGE: 18.654810366652303\n",
      "Kurtosis of column CNT_FAM_MEMBERS: 2.802067777133301\n",
      "Kurtosis of column HOUR_APPR_PROCESS_START: -0.19415855313825547\n",
      "Kurtosis of column EXT_SOURCE_2: -0.26912989224059647\n",
      "Kurtosis of column EXT_SOURCE_3: -0.6634517795861177\n",
      "Kurtosis of column YEARS_BEGINEXPLUATATION_AVG: 248.17171499805875\n",
      "Kurtosis of column FLOORSMAX_AVG: 2.432526325060468\n",
      "Kurtosis of column YEARS_BEGINEXPLUATATION_MODE: 219.9586303695742\n",
      "Kurtosis of column FLOORSMAX_MODE: 2.535664893978781\n",
      "Kurtosis of column YEARS_BEGINEXPLUATATION_MEDI: 248.39189153281475\n",
      "Kurtosis of column FLOORSMAX_MEDI: 2.4685343056060716\n",
      "Kurtosis of column TOTALAREA_MODE: 12.167365404312967\n",
      "Kurtosis of column OBS_30_CNT_SOCIAL_CIRCLE: 1424.9727932101976\n",
      "Kurtosis of column DEF_30_CNT_SOCIAL_CIRCLE: 126.35944543433482\n",
      "Kurtosis of column OBS_60_CNT_SOCIAL_CIRCLE: 1409.863850635848\n",
      "Kurtosis of column DEF_60_CNT_SOCIAL_CIRCLE: 86.59005201220965\n",
      "Kurtosis of column DAYS_LAST_PHONE_CHANGE: -0.30859375939729006\n",
      "Kurtosis of column AMT_REQ_CREDIT_BUREAU_HOUR: 254.2397296388907\n",
      "Kurtosis of column AMT_REQ_CREDIT_BUREAU_DAY: 1151.8502634836536\n",
      "Kurtosis of column AMT_REQ_CREDIT_BUREAU_WEEK: 166.74972735094792\n",
      "Kurtosis of column AMT_REQ_CREDIT_BUREAU_MON: 90.43983370557952\n",
      "Kurtosis of column AMT_REQ_CREDIT_BUREAU_QRT: 43707.198718139065\n",
      "Kurtosis of column AMT_REQ_CREDIT_BUREAU_YEAR: 1.9691781944127502\n"
     ]
    }
   ],
   "source": [
    "kurtosis_values = num_df.kurtosis()\n",
    "\n",
    "for column in num_df.columns:\n",
    "    print(f\"Kurtosis of column {column}: {kurtosis_values[column]}\")"
   ]
  },
  {
   "cell_type": "markdown",
   "id": "8df96e39",
   "metadata": {},
   "source": [
    "<a class=\"anchor\" id=\"out2\"></a>\n",
    "## 9.2 Treatment of Outliers"
   ]
  },
  {
   "cell_type": "markdown",
   "id": "102554d5",
   "metadata": {},
   "source": [
    "We addressed outliers in the dataset using the Winsorization method. We used Winsorization method because it preserves the overall shape and distribution of the data while reducing the impact of outliers.  Winsorization involves replacing extreme values with less extreme but still reasonable values. The approach entails setting a threshold or percentile, such as the 95th or 99th percentile, and capping or flooring the data at that point."
   ]
  },
  {
   "cell_type": "code",
   "execution_count": 245,
   "id": "cc6c57a3",
   "metadata": {},
   "outputs": [],
   "source": [
    "from scipy.stats.mstats import winsorize\n",
    "for column in num_df.columns:\n",
    "    TrainDF[column] = winsorize(TrainDF[column], limits=[0.05, 0.05])"
   ]
  },
  {
   "cell_type": "markdown",
   "id": "57f83207",
   "metadata": {},
   "source": [
    "<a class=\"anchor\" id=\"join\"></a>\n",
    "# 10. Joining Train Data with Transactional Data"
   ]
  },
  {
   "cell_type": "markdown",
   "id": "c44fe1b7",
   "metadata": {},
   "source": [
    "First we will read the trasactional data and then join both the train and transactional data"
   ]
  },
  {
   "cell_type": "code",
   "execution_count": 246,
   "id": "558ae2fe",
   "metadata": {},
   "outputs": [
    {
     "data": {
      "text/plain": [
       "(1716428, 17)"
      ]
     },
     "execution_count": 246,
     "metadata": {},
     "output_type": "execute_result"
    }
   ],
   "source": [
    "BureauDF = pd.read_csv(\"Home-credit-data/bureau.csv\")\n",
    "\n",
    "BureauDF.shape"
   ]
  },
  {
   "cell_type": "code",
   "execution_count": 247,
   "id": "10e50987",
   "metadata": {},
   "outputs": [
    {
     "data": {
      "text/html": [
       "<div>\n",
       "<style scoped>\n",
       "    .dataframe tbody tr th:only-of-type {\n",
       "        vertical-align: middle;\n",
       "    }\n",
       "\n",
       "    .dataframe tbody tr th {\n",
       "        vertical-align: top;\n",
       "    }\n",
       "\n",
       "    .dataframe thead th {\n",
       "        text-align: right;\n",
       "    }\n",
       "</style>\n",
       "<table border=\"1\" class=\"dataframe\">\n",
       "  <thead>\n",
       "    <tr style=\"text-align: right;\">\n",
       "      <th></th>\n",
       "      <th>SK_ID_CURR</th>\n",
       "      <th>SK_ID_BUREAU</th>\n",
       "      <th>CREDIT_ACTIVE</th>\n",
       "      <th>CREDIT_CURRENCY</th>\n",
       "      <th>DAYS_CREDIT</th>\n",
       "      <th>CREDIT_DAY_OVERDUE</th>\n",
       "      <th>DAYS_CREDIT_ENDDATE</th>\n",
       "      <th>DAYS_ENDDATE_FACT</th>\n",
       "      <th>AMT_CREDIT_MAX_OVERDUE</th>\n",
       "      <th>CNT_CREDIT_PROLONG</th>\n",
       "      <th>AMT_CREDIT_SUM</th>\n",
       "      <th>AMT_CREDIT_SUM_DEBT</th>\n",
       "      <th>AMT_CREDIT_SUM_LIMIT</th>\n",
       "      <th>AMT_CREDIT_SUM_OVERDUE</th>\n",
       "      <th>CREDIT_TYPE</th>\n",
       "      <th>DAYS_CREDIT_UPDATE</th>\n",
       "      <th>AMT_ANNUITY</th>\n",
       "    </tr>\n",
       "  </thead>\n",
       "  <tbody>\n",
       "    <tr>\n",
       "      <th>0</th>\n",
       "      <td>215354</td>\n",
       "      <td>5714462</td>\n",
       "      <td>Closed</td>\n",
       "      <td>currency 1</td>\n",
       "      <td>-497</td>\n",
       "      <td>0</td>\n",
       "      <td>-153.0</td>\n",
       "      <td>-153.0</td>\n",
       "      <td>NaN</td>\n",
       "      <td>0</td>\n",
       "      <td>91323.0</td>\n",
       "      <td>0.0</td>\n",
       "      <td>NaN</td>\n",
       "      <td>0.0</td>\n",
       "      <td>Consumer credit</td>\n",
       "      <td>-131</td>\n",
       "      <td>NaN</td>\n",
       "    </tr>\n",
       "    <tr>\n",
       "      <th>1</th>\n",
       "      <td>215354</td>\n",
       "      <td>5714463</td>\n",
       "      <td>Active</td>\n",
       "      <td>currency 1</td>\n",
       "      <td>-208</td>\n",
       "      <td>0</td>\n",
       "      <td>1075.0</td>\n",
       "      <td>NaN</td>\n",
       "      <td>NaN</td>\n",
       "      <td>0</td>\n",
       "      <td>225000.0</td>\n",
       "      <td>171342.0</td>\n",
       "      <td>NaN</td>\n",
       "      <td>0.0</td>\n",
       "      <td>Credit card</td>\n",
       "      <td>-20</td>\n",
       "      <td>NaN</td>\n",
       "    </tr>\n",
       "    <tr>\n",
       "      <th>2</th>\n",
       "      <td>215354</td>\n",
       "      <td>5714464</td>\n",
       "      <td>Active</td>\n",
       "      <td>currency 1</td>\n",
       "      <td>-203</td>\n",
       "      <td>0</td>\n",
       "      <td>528.0</td>\n",
       "      <td>NaN</td>\n",
       "      <td>NaN</td>\n",
       "      <td>0</td>\n",
       "      <td>464323.5</td>\n",
       "      <td>NaN</td>\n",
       "      <td>NaN</td>\n",
       "      <td>0.0</td>\n",
       "      <td>Consumer credit</td>\n",
       "      <td>-16</td>\n",
       "      <td>NaN</td>\n",
       "    </tr>\n",
       "    <tr>\n",
       "      <th>3</th>\n",
       "      <td>215354</td>\n",
       "      <td>5714465</td>\n",
       "      <td>Active</td>\n",
       "      <td>currency 1</td>\n",
       "      <td>-203</td>\n",
       "      <td>0</td>\n",
       "      <td>NaN</td>\n",
       "      <td>NaN</td>\n",
       "      <td>NaN</td>\n",
       "      <td>0</td>\n",
       "      <td>90000.0</td>\n",
       "      <td>NaN</td>\n",
       "      <td>NaN</td>\n",
       "      <td>0.0</td>\n",
       "      <td>Credit card</td>\n",
       "      <td>-16</td>\n",
       "      <td>NaN</td>\n",
       "    </tr>\n",
       "    <tr>\n",
       "      <th>4</th>\n",
       "      <td>215354</td>\n",
       "      <td>5714466</td>\n",
       "      <td>Active</td>\n",
       "      <td>currency 1</td>\n",
       "      <td>-629</td>\n",
       "      <td>0</td>\n",
       "      <td>1197.0</td>\n",
       "      <td>NaN</td>\n",
       "      <td>77674.5</td>\n",
       "      <td>0</td>\n",
       "      <td>2700000.0</td>\n",
       "      <td>NaN</td>\n",
       "      <td>NaN</td>\n",
       "      <td>0.0</td>\n",
       "      <td>Consumer credit</td>\n",
       "      <td>-21</td>\n",
       "      <td>NaN</td>\n",
       "    </tr>\n",
       "  </tbody>\n",
       "</table>\n",
       "</div>"
      ],
      "text/plain": [
       "   SK_ID_CURR  SK_ID_BUREAU CREDIT_ACTIVE CREDIT_CURRENCY  DAYS_CREDIT  \\\n",
       "0      215354       5714462        Closed      currency 1         -497   \n",
       "1      215354       5714463        Active      currency 1         -208   \n",
       "2      215354       5714464        Active      currency 1         -203   \n",
       "3      215354       5714465        Active      currency 1         -203   \n",
       "4      215354       5714466        Active      currency 1         -629   \n",
       "\n",
       "   CREDIT_DAY_OVERDUE  DAYS_CREDIT_ENDDATE  DAYS_ENDDATE_FACT  \\\n",
       "0                   0               -153.0             -153.0   \n",
       "1                   0               1075.0                NaN   \n",
       "2                   0                528.0                NaN   \n",
       "3                   0                  NaN                NaN   \n",
       "4                   0               1197.0                NaN   \n",
       "\n",
       "   AMT_CREDIT_MAX_OVERDUE  CNT_CREDIT_PROLONG  AMT_CREDIT_SUM  \\\n",
       "0                     NaN                   0         91323.0   \n",
       "1                     NaN                   0        225000.0   \n",
       "2                     NaN                   0        464323.5   \n",
       "3                     NaN                   0         90000.0   \n",
       "4                 77674.5                   0       2700000.0   \n",
       "\n",
       "   AMT_CREDIT_SUM_DEBT  AMT_CREDIT_SUM_LIMIT  AMT_CREDIT_SUM_OVERDUE  \\\n",
       "0                  0.0                   NaN                     0.0   \n",
       "1             171342.0                   NaN                     0.0   \n",
       "2                  NaN                   NaN                     0.0   \n",
       "3                  NaN                   NaN                     0.0   \n",
       "4                  NaN                   NaN                     0.0   \n",
       "\n",
       "       CREDIT_TYPE  DAYS_CREDIT_UPDATE  AMT_ANNUITY  \n",
       "0  Consumer credit                -131          NaN  \n",
       "1      Credit card                 -20          NaN  \n",
       "2  Consumer credit                 -16          NaN  \n",
       "3      Credit card                 -16          NaN  \n",
       "4  Consumer credit                 -21          NaN  "
      ]
     },
     "execution_count": 247,
     "metadata": {},
     "output_type": "execute_result"
    }
   ],
   "source": [
    "BureauDF.head(5)"
   ]
  },
  {
   "cell_type": "code",
   "execution_count": 248,
   "id": "0f184034",
   "metadata": {},
   "outputs": [
    {
     "name": "stdout",
     "output_type": "stream",
     "text": [
      "<class 'pandas.core.frame.DataFrame'>\n",
      "RangeIndex: 1716428 entries, 0 to 1716427\n",
      "Data columns (total 17 columns):\n",
      " #   Column                  Dtype  \n",
      "---  ------                  -----  \n",
      " 0   SK_ID_CURR              int64  \n",
      " 1   SK_ID_BUREAU            int64  \n",
      " 2   CREDIT_ACTIVE           object \n",
      " 3   CREDIT_CURRENCY         object \n",
      " 4   DAYS_CREDIT             int64  \n",
      " 5   CREDIT_DAY_OVERDUE      int64  \n",
      " 6   DAYS_CREDIT_ENDDATE     float64\n",
      " 7   DAYS_ENDDATE_FACT       float64\n",
      " 8   AMT_CREDIT_MAX_OVERDUE  float64\n",
      " 9   CNT_CREDIT_PROLONG      int64  \n",
      " 10  AMT_CREDIT_SUM          float64\n",
      " 11  AMT_CREDIT_SUM_DEBT     float64\n",
      " 12  AMT_CREDIT_SUM_LIMIT    float64\n",
      " 13  AMT_CREDIT_SUM_OVERDUE  float64\n",
      " 14  CREDIT_TYPE             object \n",
      " 15  DAYS_CREDIT_UPDATE      int64  \n",
      " 16  AMT_ANNUITY             float64\n",
      "dtypes: float64(8), int64(6), object(3)\n",
      "memory usage: 222.6+ MB\n",
      "None\n"
     ]
    }
   ],
   "source": [
    "# Information about the data types of the columns\n",
    "print(BureauDF.info())"
   ]
  },
  {
   "cell_type": "code",
   "execution_count": 249,
   "id": "f5a54202",
   "metadata": {},
   "outputs": [
    {
     "name": "stdout",
     "output_type": "stream",
     "text": [
      "SK_ID_CURR                      0\n",
      "SK_ID_BUREAU                    0\n",
      "CREDIT_ACTIVE                   0\n",
      "CREDIT_CURRENCY                 0\n",
      "DAYS_CREDIT                     0\n",
      "CREDIT_DAY_OVERDUE              0\n",
      "DAYS_CREDIT_ENDDATE        105553\n",
      "DAYS_ENDDATE_FACT          633653\n",
      "AMT_CREDIT_MAX_OVERDUE    1124488\n",
      "CNT_CREDIT_PROLONG              0\n",
      "AMT_CREDIT_SUM                 13\n",
      "AMT_CREDIT_SUM_DEBT        257669\n",
      "AMT_CREDIT_SUM_LIMIT       591780\n",
      "AMT_CREDIT_SUM_OVERDUE          0\n",
      "CREDIT_TYPE                     0\n",
      "DAYS_CREDIT_UPDATE              0\n",
      "AMT_ANNUITY               1226791\n",
      "dtype: int64\n"
     ]
    }
   ],
   "source": [
    "# Displaying the number of missing values in each column\n",
    "print(BureauDF.isnull().sum())"
   ]
  },
  {
   "cell_type": "markdown",
   "id": "6b29f89b",
   "metadata": {},
   "source": [
    "<a class=\"anchor\" id=\"join1\"></a>\n",
    "## 10.1 Joining Bureau Data with Train Data"
   ]
  },
  {
   "cell_type": "code",
   "execution_count": 250,
   "id": "6b4cafea",
   "metadata": {},
   "outputs": [
    {
     "data": {
      "text/html": [
       "<div>\n",
       "<style scoped>\n",
       "    .dataframe tbody tr th:only-of-type {\n",
       "        vertical-align: middle;\n",
       "    }\n",
       "\n",
       "    .dataframe tbody tr th {\n",
       "        vertical-align: top;\n",
       "    }\n",
       "\n",
       "    .dataframe thead th {\n",
       "        text-align: right;\n",
       "    }\n",
       "</style>\n",
       "<table border=\"1\" class=\"dataframe\">\n",
       "  <thead>\n",
       "    <tr style=\"text-align: right;\">\n",
       "      <th></th>\n",
       "      <th>SK_ID_CURR</th>\n",
       "      <th>TARGET</th>\n",
       "      <th>NAME_CONTRACT_TYPE</th>\n",
       "      <th>CODE_GENDER</th>\n",
       "      <th>FLAG_OWN_CAR</th>\n",
       "      <th>FLAG_OWN_REALTY</th>\n",
       "      <th>CNT_CHILDREN</th>\n",
       "      <th>AMT_INCOME_TOTAL</th>\n",
       "      <th>AMT_CREDIT</th>\n",
       "      <th>AMT_ANNUITY_x</th>\n",
       "      <th>...</th>\n",
       "      <th>DAYS_ENDDATE_FACT</th>\n",
       "      <th>AMT_CREDIT_MAX_OVERDUE</th>\n",
       "      <th>CNT_CREDIT_PROLONG</th>\n",
       "      <th>AMT_CREDIT_SUM</th>\n",
       "      <th>AMT_CREDIT_SUM_DEBT</th>\n",
       "      <th>AMT_CREDIT_SUM_LIMIT</th>\n",
       "      <th>AMT_CREDIT_SUM_OVERDUE</th>\n",
       "      <th>CREDIT_TYPE</th>\n",
       "      <th>DAYS_CREDIT_UPDATE</th>\n",
       "      <th>AMT_ANNUITY_y</th>\n",
       "    </tr>\n",
       "  </thead>\n",
       "  <tbody>\n",
       "    <tr>\n",
       "      <th>0</th>\n",
       "      <td>100002</td>\n",
       "      <td>1</td>\n",
       "      <td>Cash loans</td>\n",
       "      <td>M</td>\n",
       "      <td>N</td>\n",
       "      <td>Y</td>\n",
       "      <td>0.0</td>\n",
       "      <td>202500.0</td>\n",
       "      <td>406597.5</td>\n",
       "      <td>24700.5</td>\n",
       "      <td>...</td>\n",
       "      <td>-1038.0</td>\n",
       "      <td>NaN</td>\n",
       "      <td>0.0</td>\n",
       "      <td>40761.0</td>\n",
       "      <td>NaN</td>\n",
       "      <td>NaN</td>\n",
       "      <td>0.0</td>\n",
       "      <td>Credit card</td>\n",
       "      <td>-1038.0</td>\n",
       "      <td>0.0</td>\n",
       "    </tr>\n",
       "    <tr>\n",
       "      <th>1</th>\n",
       "      <td>100002</td>\n",
       "      <td>1</td>\n",
       "      <td>Cash loans</td>\n",
       "      <td>M</td>\n",
       "      <td>N</td>\n",
       "      <td>Y</td>\n",
       "      <td>0.0</td>\n",
       "      <td>202500.0</td>\n",
       "      <td>406597.5</td>\n",
       "      <td>24700.5</td>\n",
       "      <td>...</td>\n",
       "      <td>-48.0</td>\n",
       "      <td>NaN</td>\n",
       "      <td>0.0</td>\n",
       "      <td>0.0</td>\n",
       "      <td>0.0</td>\n",
       "      <td>NaN</td>\n",
       "      <td>0.0</td>\n",
       "      <td>Credit card</td>\n",
       "      <td>-47.0</td>\n",
       "      <td>NaN</td>\n",
       "    </tr>\n",
       "    <tr>\n",
       "      <th>2</th>\n",
       "      <td>100002</td>\n",
       "      <td>1</td>\n",
       "      <td>Cash loans</td>\n",
       "      <td>M</td>\n",
       "      <td>N</td>\n",
       "      <td>Y</td>\n",
       "      <td>0.0</td>\n",
       "      <td>202500.0</td>\n",
       "      <td>406597.5</td>\n",
       "      <td>24700.5</td>\n",
       "      <td>...</td>\n",
       "      <td>-1185.0</td>\n",
       "      <td>0.000</td>\n",
       "      <td>0.0</td>\n",
       "      <td>135000.0</td>\n",
       "      <td>0.0</td>\n",
       "      <td>0.0</td>\n",
       "      <td>0.0</td>\n",
       "      <td>Consumer credit</td>\n",
       "      <td>-1185.0</td>\n",
       "      <td>0.0</td>\n",
       "    </tr>\n",
       "    <tr>\n",
       "      <th>3</th>\n",
       "      <td>100002</td>\n",
       "      <td>1</td>\n",
       "      <td>Cash loans</td>\n",
       "      <td>M</td>\n",
       "      <td>N</td>\n",
       "      <td>Y</td>\n",
       "      <td>0.0</td>\n",
       "      <td>202500.0</td>\n",
       "      <td>406597.5</td>\n",
       "      <td>24700.5</td>\n",
       "      <td>...</td>\n",
       "      <td>-911.0</td>\n",
       "      <td>3321.000</td>\n",
       "      <td>0.0</td>\n",
       "      <td>19071.0</td>\n",
       "      <td>NaN</td>\n",
       "      <td>NaN</td>\n",
       "      <td>0.0</td>\n",
       "      <td>Consumer credit</td>\n",
       "      <td>-906.0</td>\n",
       "      <td>0.0</td>\n",
       "    </tr>\n",
       "    <tr>\n",
       "      <th>4</th>\n",
       "      <td>100002</td>\n",
       "      <td>1</td>\n",
       "      <td>Cash loans</td>\n",
       "      <td>M</td>\n",
       "      <td>N</td>\n",
       "      <td>Y</td>\n",
       "      <td>0.0</td>\n",
       "      <td>202500.0</td>\n",
       "      <td>406597.5</td>\n",
       "      <td>24700.5</td>\n",
       "      <td>...</td>\n",
       "      <td>-36.0</td>\n",
       "      <td>5043.645</td>\n",
       "      <td>0.0</td>\n",
       "      <td>120735.0</td>\n",
       "      <td>0.0</td>\n",
       "      <td>0.0</td>\n",
       "      <td>0.0</td>\n",
       "      <td>Consumer credit</td>\n",
       "      <td>-34.0</td>\n",
       "      <td>0.0</td>\n",
       "    </tr>\n",
       "  </tbody>\n",
       "</table>\n",
       "<p>5 rows × 98 columns</p>\n",
       "</div>"
      ],
      "text/plain": [
       "   SK_ID_CURR  TARGET NAME_CONTRACT_TYPE CODE_GENDER FLAG_OWN_CAR  \\\n",
       "0      100002       1         Cash loans           M            N   \n",
       "1      100002       1         Cash loans           M            N   \n",
       "2      100002       1         Cash loans           M            N   \n",
       "3      100002       1         Cash loans           M            N   \n",
       "4      100002       1         Cash loans           M            N   \n",
       "\n",
       "  FLAG_OWN_REALTY  CNT_CHILDREN  AMT_INCOME_TOTAL  AMT_CREDIT  AMT_ANNUITY_x  \\\n",
       "0               Y           0.0          202500.0    406597.5        24700.5   \n",
       "1               Y           0.0          202500.0    406597.5        24700.5   \n",
       "2               Y           0.0          202500.0    406597.5        24700.5   \n",
       "3               Y           0.0          202500.0    406597.5        24700.5   \n",
       "4               Y           0.0          202500.0    406597.5        24700.5   \n",
       "\n",
       "   ...  DAYS_ENDDATE_FACT AMT_CREDIT_MAX_OVERDUE CNT_CREDIT_PROLONG  \\\n",
       "0  ...            -1038.0                    NaN                0.0   \n",
       "1  ...              -48.0                    NaN                0.0   \n",
       "2  ...            -1185.0                  0.000                0.0   \n",
       "3  ...             -911.0               3321.000                0.0   \n",
       "4  ...              -36.0               5043.645                0.0   \n",
       "\n",
       "  AMT_CREDIT_SUM AMT_CREDIT_SUM_DEBT AMT_CREDIT_SUM_LIMIT  \\\n",
       "0        40761.0                 NaN                  NaN   \n",
       "1            0.0                 0.0                  NaN   \n",
       "2       135000.0                 0.0                  0.0   \n",
       "3        19071.0                 NaN                  NaN   \n",
       "4       120735.0                 0.0                  0.0   \n",
       "\n",
       "   AMT_CREDIT_SUM_OVERDUE      CREDIT_TYPE  DAYS_CREDIT_UPDATE  AMT_ANNUITY_y  \n",
       "0                     0.0      Credit card             -1038.0            0.0  \n",
       "1                     0.0      Credit card               -47.0            NaN  \n",
       "2                     0.0  Consumer credit             -1185.0            0.0  \n",
       "3                     0.0  Consumer credit              -906.0            0.0  \n",
       "4                     0.0  Consumer credit               -34.0            0.0  \n",
       "\n",
       "[5 rows x 98 columns]"
      ]
     },
     "execution_count": 250,
     "metadata": {},
     "output_type": "execute_result"
    }
   ],
   "source": [
    "# Joining the data\n",
    "train_bureauDF = TrainDF.merge(BureauDF, on='SK_ID_CURR',how = 'left')\n",
    "\n",
    "# Displaying the first 5 rows\n",
    "train_bureauDF.head(5)"
   ]
  },
  {
   "cell_type": "markdown",
   "id": "6a7cba5c",
   "metadata": {},
   "source": [
    "<a class=\"anchor\" id=\"summary\"></a>\n",
    "# 11. Summary"
   ]
  },
  {
   "cell_type": "markdown",
   "id": "87eb5de7",
   "metadata": {},
   "source": [
    "Based on the comprehensive exploratory data analysis (EDA) conducted, several key observations have emerged. One important insight is the strategy to refine both the training and test datasets by eliminating columns with over 50% missing data in the training dataset. This step is crucial because variables with significant missing data can distort model training and result in inaccurate predictions of the target variable.\n",
    "\n",
    "Additionally, the analysis successfully identified outliers within the numerical data, leveraging kurtosis values, and subsequently, these outliers were addressed through the application of the Winsorization method. This approach retains the overall data distribution while mitigating the influence of outliers.\n",
    "\n",
    "Considering the nature of the business problem, which involves supervised learning with a binary target variable, it is advisable to employ models such as Logistic Regression and Random Forest on the refined training dataset.\n",
    "\n",
    "Furthermore, the analysis highlighted certain variables, such as Education Type, Employment Type, and Housing Type, as having a substantial impact on the target variable. Additionally, a correlation matrix revealed six other factors strongly related to the target variable, indicating their suitability for inclusion in the modeling process."
   ]
  }
 ],
 "metadata": {
  "kernelspec": {
   "display_name": "Python 3 (ipykernel)",
   "language": "python",
   "name": "python3"
  },
  "language_info": {
   "codemirror_mode": {
    "name": "ipython",
    "version": 3
   },
   "file_extension": ".py",
   "mimetype": "text/x-python",
   "name": "python",
   "nbconvert_exporter": "python",
   "pygments_lexer": "ipython3",
   "version": "3.10.9"
  }
 },
 "nbformat": 4,
 "nbformat_minor": 5
}
